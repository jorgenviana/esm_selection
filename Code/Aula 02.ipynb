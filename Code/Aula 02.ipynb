{
 "nbformat": 4,
 "nbformat_minor": 0,
 "metadata": {
  "colab": {
   "provenance": [],
   "toc_visible": true,
   "mount_file_id": "1-mSGJX4BfTBrbq37JeIQo-R07dFvK4BD",
   "authorship_tag": "ABX9TyPlPu7p8SpBkoWyWUWPjxMI"
  },
  "kernelspec": {
   "name": "python3",
   "language": "python",
   "display_name": "Python 3 (ipykernel)"
  },
  "language_info": {
   "name": "python"
  }
 },
 "cells": [
  {
   "cell_type": "markdown",
   "source": [
    "# Aula 02 - Construção de Series e DataFrames\n",
    "\n",
    "## **Resumo**: Exerícios de construção de Series e DataFrames para o curso de Ciência de Dados e Sociedade, a partir de dados fictícios de uma folha de pagamentos com cinco indivíduos"
   ],
   "metadata": {
    "id": "pfU_XxjR5pPi"
   }
  },
  {
   "cell_type": "markdown",
   "source": [
    "# I CARREGAMENTO DOS PACOTES NECESSÁRIOS"
   ],
   "metadata": {
    "id": "XluF2DLOIQgN"
   }
  },
  {
   "cell_type": "code",
   "execution_count": 1,
   "metadata": {
    "id": "Jv5A6yHUs5jf",
    "ExecuteTime": {
     "end_time": "2023-07-17T18:24:31.500215200Z",
     "start_time": "2023-07-17T18:24:21.063275200Z"
    }
   },
   "outputs": [],
   "source": [
    "import pandas as pd\n",
    "import numpy as np"
   ]
  },
  {
   "cell_type": "markdown",
   "source": [
    "# Exerício 1: Construção de Series\n",
    "\n"
   ],
   "metadata": {
    "id": "kjU55MNJ8oWZ"
   }
  },
  {
   "cell_type": "code",
   "source": [
    "# a)\n",
    "cpf      = [\"81685817769\", \"28467813890\", \"34233677503\", \"33177188548\", \n",
    "            \"01855987228\"]\n",
    "nome     = np.array([\"ALAN\", \"ANDERSON\", \"BEATRIZ\", \"JESSICA\", \"JOAO\"])   \n",
    "encargos = {0: 770, 1: 638, 2: 455, 3: 784, 4: 682}\n",
    "\n",
    "\n",
    "cpf      = pd.Series(cpf, name = \"CPF\", dtype = \"str\")\n",
    "nome     = pd.Series(nome, name = \"Nome\", dtype = \"str\")\n",
    "encargos = pd.Series(encargos, name = \"Encargos\", dtype = \"float\")\n",
    "salario  = pd.Series([4066, 7138, 4491, 3858, 11911], \n",
    "                     name = \"Salário\",\n",
    "                     dtype = \"int\")\n",
    "\n",
    "salario"
   ],
   "metadata": {
    "id": "MS2ydfKLs-Dg",
    "ExecuteTime": {
     "end_time": "2023-07-17T18:24:58.624372800Z",
     "start_time": "2023-07-17T18:24:58.571373200Z"
    }
   },
   "execution_count": 2,
   "outputs": [
    {
     "data": {
      "text/plain": "0     4066\n1     7138\n2     4491\n3     3858\n4    11911\nName: Salário, dtype: int32"
     },
     "execution_count": 2,
     "metadata": {},
     "output_type": "execute_result"
    }
   ]
  },
  {
   "cell_type": "code",
   "source": [
    "# b)\n",
    "salario_anual = salario * 12\n",
    "custo_mensal  = salario + encargos\n",
    "\n",
    "salario_anual"
   ],
   "metadata": {
    "id": "M8RDPxKR838_",
    "ExecuteTime": {
     "end_time": "2023-07-17T18:25:24.539162300Z",
     "start_time": "2023-07-17T18:25:24.525311200Z"
    }
   },
   "execution_count": 3,
   "outputs": [
    {
     "data": {
      "text/plain": "0     48792\n1     85656\n2     53892\n3     46296\n4    142932\nName: Salário, dtype: int32"
     },
     "execution_count": 3,
     "metadata": {},
     "output_type": "execute_result"
    }
   ]
  },
  {
   "cell_type": "code",
   "source": [
    "# c)\n",
    "salario.describe()"
   ],
   "metadata": {
    "id": "Dc-sq8LudMCc",
    "ExecuteTime": {
     "end_time": "2023-07-17T18:25:26.069680300Z",
     "start_time": "2023-07-17T18:25:26.030751900Z"
    }
   },
   "execution_count": 4,
   "outputs": [
    {
     "data": {
      "text/plain": "count        5.00000\nmean      6292.80000\nstd       3406.31424\nmin       3858.00000\n25%       4066.00000\n50%       4491.00000\n75%       7138.00000\nmax      11911.00000\nName: Salário, dtype: float64"
     },
     "execution_count": 4,
     "metadata": {},
     "output_type": "execute_result"
    }
   ]
  },
  {
   "cell_type": "code",
   "source": [
    "# d)\n",
    "custo_mensal.describe()"
   ],
   "metadata": {
    "id": "XTDs_u1fd4bX",
    "ExecuteTime": {
     "end_time": "2023-07-17T18:25:39.350460900Z",
     "start_time": "2023-07-17T18:25:39.300959900Z"
    }
   },
   "execution_count": 5,
   "outputs": [
    {
     "data": {
      "text/plain": "count        5.000000\nmean      6958.600000\nstd       3403.572799\nmin       4642.000000\n25%       4836.000000\n50%       4946.000000\n75%       7776.000000\nmax      12593.000000\ndtype: float64"
     },
     "execution_count": 5,
     "metadata": {},
     "output_type": "execute_result"
    }
   ]
  },
  {
   "cell_type": "markdown",
   "source": [
    "# Exercício 2: Construção de DataFrames"
   ],
   "metadata": {
    "id": "mvFLjm2M-wfU"
   }
  },
  {
   "cell_type": "code",
   "source": [
    "# a)\n",
    "folha = pd.DataFrame({\"nome\": nome,\n",
    "                      \"cpf\": cpf,\n",
    "                      \"salario\": salario,\n",
    "                      \"encargos\": encargos,\n",
    "                      \"salario_anual\": salario_anual,\n",
    "                      \"custo_mensal\": custo_mensal,\n",
    "                      \"custo_anual\": custo_mensal * 12\n",
    "                      })\n",
    "folha"
   ],
   "metadata": {
    "id": "54EaAZaA_FLS",
    "ExecuteTime": {
     "end_time": "2023-07-17T18:25:42.211674400Z",
     "start_time": "2023-07-17T18:25:42.197277200Z"
    }
   },
   "execution_count": 6,
   "outputs": [
    {
     "data": {
      "text/plain": "       nome          cpf  salario  encargos  salario_anual  custo_mensal  \\\n0      ALAN  81685817769     4066     770.0          48792        4836.0   \n1  ANDERSON  28467813890     7138     638.0          85656        7776.0   \n2   BEATRIZ  34233677503     4491     455.0          53892        4946.0   \n3   JESSICA  33177188548     3858     784.0          46296        4642.0   \n4      JOAO  01855987228    11911     682.0         142932       12593.0   \n\n   custo_anual  \n0      58032.0  \n1      93312.0  \n2      59352.0  \n3      55704.0  \n4     151116.0  ",
      "text/html": "<div>\n<style scoped>\n    .dataframe tbody tr th:only-of-type {\n        vertical-align: middle;\n    }\n\n    .dataframe tbody tr th {\n        vertical-align: top;\n    }\n\n    .dataframe thead th {\n        text-align: right;\n    }\n</style>\n<table border=\"1\" class=\"dataframe\">\n  <thead>\n    <tr style=\"text-align: right;\">\n      <th></th>\n      <th>nome</th>\n      <th>cpf</th>\n      <th>salario</th>\n      <th>encargos</th>\n      <th>salario_anual</th>\n      <th>custo_mensal</th>\n      <th>custo_anual</th>\n    </tr>\n  </thead>\n  <tbody>\n    <tr>\n      <th>0</th>\n      <td>ALAN</td>\n      <td>81685817769</td>\n      <td>4066</td>\n      <td>770.0</td>\n      <td>48792</td>\n      <td>4836.0</td>\n      <td>58032.0</td>\n    </tr>\n    <tr>\n      <th>1</th>\n      <td>ANDERSON</td>\n      <td>28467813890</td>\n      <td>7138</td>\n      <td>638.0</td>\n      <td>85656</td>\n      <td>7776.0</td>\n      <td>93312.0</td>\n    </tr>\n    <tr>\n      <th>2</th>\n      <td>BEATRIZ</td>\n      <td>34233677503</td>\n      <td>4491</td>\n      <td>455.0</td>\n      <td>53892</td>\n      <td>4946.0</td>\n      <td>59352.0</td>\n    </tr>\n    <tr>\n      <th>3</th>\n      <td>JESSICA</td>\n      <td>33177188548</td>\n      <td>3858</td>\n      <td>784.0</td>\n      <td>46296</td>\n      <td>4642.0</td>\n      <td>55704.0</td>\n    </tr>\n    <tr>\n      <th>4</th>\n      <td>JOAO</td>\n      <td>01855987228</td>\n      <td>11911</td>\n      <td>682.0</td>\n      <td>142932</td>\n      <td>12593.0</td>\n      <td>151116.0</td>\n    </tr>\n  </tbody>\n</table>\n</div>"
     },
     "execution_count": 6,
     "metadata": {},
     "output_type": "execute_result"
    }
   ]
  },
  {
   "cell_type": "code",
   "source": [
    "# b)\n",
    "\n",
    "folha.shape"
   ],
   "metadata": {
    "id": "U_hzNgdi_6zZ",
    "ExecuteTime": {
     "end_time": "2023-07-17T18:26:05.967238900Z",
     "start_time": "2023-07-17T18:26:05.946239900Z"
    }
   },
   "execution_count": 7,
   "outputs": [
    {
     "data": {
      "text/plain": "(5, 7)"
     },
     "execution_count": 7,
     "metadata": {},
     "output_type": "execute_result"
    }
   ]
  },
  {
   "cell_type": "code",
   "source": [
    "# c)\n",
    "\n",
    "folha.size"
   ],
   "metadata": {
    "id": "cSxS30jm-zPS",
    "ExecuteTime": {
     "end_time": "2023-07-17T18:26:07.321570500Z",
     "start_time": "2023-07-17T18:26:07.295567300Z"
    }
   },
   "execution_count": 8,
   "outputs": [
    {
     "data": {
      "text/plain": "35"
     },
     "execution_count": 8,
     "metadata": {},
     "output_type": "execute_result"
    }
   ]
  },
  {
   "cell_type": "code",
   "source": [
    "# d)\n",
    "\n",
    "folha.describe(include = \"all\")"
   ],
   "metadata": {
    "id": "QDqzK0xdAbMX",
    "ExecuteTime": {
     "end_time": "2023-07-17T18:26:08.217409200Z",
     "start_time": "2023-07-17T18:26:08.167404500Z"
    }
   },
   "execution_count": 9,
   "outputs": [
    {
     "data": {
      "text/plain": "        nome          cpf      salario   encargos  salario_anual  \\\ncount      5            5      5.00000    5.00000       5.000000   \nunique     5            5          NaN        NaN            NaN   \ntop     ALAN  81685817769          NaN        NaN            NaN   \nfreq       1            1          NaN        NaN            NaN   \nmean     NaN          NaN   6292.80000  665.80000   75513.600000   \nstd      NaN          NaN   3406.31424  132.57149   40875.770877   \nmin      NaN          NaN   3858.00000  455.00000   46296.000000   \n25%      NaN          NaN   4066.00000  638.00000   48792.000000   \n50%      NaN          NaN   4491.00000  682.00000   53892.000000   \n75%      NaN          NaN   7138.00000  770.00000   85656.000000   \nmax      NaN          NaN  11911.00000  784.00000  142932.000000   \n\n        custo_mensal    custo_anual  \ncount       5.000000       5.000000  \nunique           NaN            NaN  \ntop              NaN            NaN  \nfreq             NaN            NaN  \nmean     6958.600000   83503.200000  \nstd      3403.572799   40842.873591  \nmin      4642.000000   55704.000000  \n25%      4836.000000   58032.000000  \n50%      4946.000000   59352.000000  \n75%      7776.000000   93312.000000  \nmax     12593.000000  151116.000000  ",
      "text/html": "<div>\n<style scoped>\n    .dataframe tbody tr th:only-of-type {\n        vertical-align: middle;\n    }\n\n    .dataframe tbody tr th {\n        vertical-align: top;\n    }\n\n    .dataframe thead th {\n        text-align: right;\n    }\n</style>\n<table border=\"1\" class=\"dataframe\">\n  <thead>\n    <tr style=\"text-align: right;\">\n      <th></th>\n      <th>nome</th>\n      <th>cpf</th>\n      <th>salario</th>\n      <th>encargos</th>\n      <th>salario_anual</th>\n      <th>custo_mensal</th>\n      <th>custo_anual</th>\n    </tr>\n  </thead>\n  <tbody>\n    <tr>\n      <th>count</th>\n      <td>5</td>\n      <td>5</td>\n      <td>5.00000</td>\n      <td>5.00000</td>\n      <td>5.000000</td>\n      <td>5.000000</td>\n      <td>5.000000</td>\n    </tr>\n    <tr>\n      <th>unique</th>\n      <td>5</td>\n      <td>5</td>\n      <td>NaN</td>\n      <td>NaN</td>\n      <td>NaN</td>\n      <td>NaN</td>\n      <td>NaN</td>\n    </tr>\n    <tr>\n      <th>top</th>\n      <td>ALAN</td>\n      <td>81685817769</td>\n      <td>NaN</td>\n      <td>NaN</td>\n      <td>NaN</td>\n      <td>NaN</td>\n      <td>NaN</td>\n    </tr>\n    <tr>\n      <th>freq</th>\n      <td>1</td>\n      <td>1</td>\n      <td>NaN</td>\n      <td>NaN</td>\n      <td>NaN</td>\n      <td>NaN</td>\n      <td>NaN</td>\n    </tr>\n    <tr>\n      <th>mean</th>\n      <td>NaN</td>\n      <td>NaN</td>\n      <td>6292.80000</td>\n      <td>665.80000</td>\n      <td>75513.600000</td>\n      <td>6958.600000</td>\n      <td>83503.200000</td>\n    </tr>\n    <tr>\n      <th>std</th>\n      <td>NaN</td>\n      <td>NaN</td>\n      <td>3406.31424</td>\n      <td>132.57149</td>\n      <td>40875.770877</td>\n      <td>3403.572799</td>\n      <td>40842.873591</td>\n    </tr>\n    <tr>\n      <th>min</th>\n      <td>NaN</td>\n      <td>NaN</td>\n      <td>3858.00000</td>\n      <td>455.00000</td>\n      <td>46296.000000</td>\n      <td>4642.000000</td>\n      <td>55704.000000</td>\n    </tr>\n    <tr>\n      <th>25%</th>\n      <td>NaN</td>\n      <td>NaN</td>\n      <td>4066.00000</td>\n      <td>638.00000</td>\n      <td>48792.000000</td>\n      <td>4836.000000</td>\n      <td>58032.000000</td>\n    </tr>\n    <tr>\n      <th>50%</th>\n      <td>NaN</td>\n      <td>NaN</td>\n      <td>4491.00000</td>\n      <td>682.00000</td>\n      <td>53892.000000</td>\n      <td>4946.000000</td>\n      <td>59352.000000</td>\n    </tr>\n    <tr>\n      <th>75%</th>\n      <td>NaN</td>\n      <td>NaN</td>\n      <td>7138.00000</td>\n      <td>770.00000</td>\n      <td>85656.000000</td>\n      <td>7776.000000</td>\n      <td>93312.000000</td>\n    </tr>\n    <tr>\n      <th>max</th>\n      <td>NaN</td>\n      <td>NaN</td>\n      <td>11911.00000</td>\n      <td>784.00000</td>\n      <td>142932.000000</td>\n      <td>12593.000000</td>\n      <td>151116.000000</td>\n    </tr>\n  </tbody>\n</table>\n</div>"
     },
     "execution_count": 9,
     "metadata": {},
     "output_type": "execute_result"
    }
   ]
  },
  {
   "cell_type": "markdown",
   "source": [
    "# Exercício 3: Subconjuntos de DataFrames"
   ],
   "metadata": {
    "id": "-pCqbHH_AvUT"
   }
  },
  {
   "cell_type": "code",
   "source": [
    "# a)\n",
    "# folha[ [\"nome\", \"salario\", \"encargos\"]]\n",
    "# folha.loc[:,  \"nome\":\"encargos\"]\n",
    "folha.iloc[:,  0:3]"
   ],
   "metadata": {
    "id": "-8DjR4xaAyZA",
    "ExecuteTime": {
     "end_time": "2023-07-17T18:26:19.534332700Z",
     "start_time": "2023-07-17T18:26:19.508370400Z"
    }
   },
   "execution_count": 10,
   "outputs": [
    {
     "data": {
      "text/plain": "       nome          cpf  salario\n0      ALAN  81685817769     4066\n1  ANDERSON  28467813890     7138\n2   BEATRIZ  34233677503     4491\n3   JESSICA  33177188548     3858\n4      JOAO  01855987228    11911",
      "text/html": "<div>\n<style scoped>\n    .dataframe tbody tr th:only-of-type {\n        vertical-align: middle;\n    }\n\n    .dataframe tbody tr th {\n        vertical-align: top;\n    }\n\n    .dataframe thead th {\n        text-align: right;\n    }\n</style>\n<table border=\"1\" class=\"dataframe\">\n  <thead>\n    <tr style=\"text-align: right;\">\n      <th></th>\n      <th>nome</th>\n      <th>cpf</th>\n      <th>salario</th>\n    </tr>\n  </thead>\n  <tbody>\n    <tr>\n      <th>0</th>\n      <td>ALAN</td>\n      <td>81685817769</td>\n      <td>4066</td>\n    </tr>\n    <tr>\n      <th>1</th>\n      <td>ANDERSON</td>\n      <td>28467813890</td>\n      <td>7138</td>\n    </tr>\n    <tr>\n      <th>2</th>\n      <td>BEATRIZ</td>\n      <td>34233677503</td>\n      <td>4491</td>\n    </tr>\n    <tr>\n      <th>3</th>\n      <td>JESSICA</td>\n      <td>33177188548</td>\n      <td>3858</td>\n    </tr>\n    <tr>\n      <th>4</th>\n      <td>JOAO</td>\n      <td>01855987228</td>\n      <td>11911</td>\n    </tr>\n  </tbody>\n</table>\n</div>"
     },
     "execution_count": 10,
     "metadata": {},
     "output_type": "execute_result"
    }
   ]
  },
  {
   "cell_type": "code",
   "source": [
    "# b)\n",
    "folha.iloc[0:3, :]\n",
    "# folha.loc[\"0\":\"2\", :]"
   ],
   "metadata": {
    "id": "7k7-ZwS4BawB",
    "ExecuteTime": {
     "end_time": "2023-07-17T18:26:24.455754600Z",
     "start_time": "2023-07-17T18:26:24.429215500Z"
    }
   },
   "execution_count": 11,
   "outputs": [
    {
     "data": {
      "text/plain": "       nome          cpf  salario  encargos  salario_anual  custo_mensal  \\\n0      ALAN  81685817769     4066     770.0          48792        4836.0   \n1  ANDERSON  28467813890     7138     638.0          85656        7776.0   \n2   BEATRIZ  34233677503     4491     455.0          53892        4946.0   \n\n   custo_anual  \n0      58032.0  \n1      93312.0  \n2      59352.0  ",
      "text/html": "<div>\n<style scoped>\n    .dataframe tbody tr th:only-of-type {\n        vertical-align: middle;\n    }\n\n    .dataframe tbody tr th {\n        vertical-align: top;\n    }\n\n    .dataframe thead th {\n        text-align: right;\n    }\n</style>\n<table border=\"1\" class=\"dataframe\">\n  <thead>\n    <tr style=\"text-align: right;\">\n      <th></th>\n      <th>nome</th>\n      <th>cpf</th>\n      <th>salario</th>\n      <th>encargos</th>\n      <th>salario_anual</th>\n      <th>custo_mensal</th>\n      <th>custo_anual</th>\n    </tr>\n  </thead>\n  <tbody>\n    <tr>\n      <th>0</th>\n      <td>ALAN</td>\n      <td>81685817769</td>\n      <td>4066</td>\n      <td>770.0</td>\n      <td>48792</td>\n      <td>4836.0</td>\n      <td>58032.0</td>\n    </tr>\n    <tr>\n      <th>1</th>\n      <td>ANDERSON</td>\n      <td>28467813890</td>\n      <td>7138</td>\n      <td>638.0</td>\n      <td>85656</td>\n      <td>7776.0</td>\n      <td>93312.0</td>\n    </tr>\n    <tr>\n      <th>2</th>\n      <td>BEATRIZ</td>\n      <td>34233677503</td>\n      <td>4491</td>\n      <td>455.0</td>\n      <td>53892</td>\n      <td>4946.0</td>\n      <td>59352.0</td>\n    </tr>\n  </tbody>\n</table>\n</div>"
     },
     "execution_count": 11,
     "metadata": {},
     "output_type": "execute_result"
    }
   ]
  },
  {
   "cell_type": "code",
   "source": [
    "# c)\n",
    "folha[folha.salario > 6000]\n",
    "# folha[folha[\"salario\"] > 6000]"
   ],
   "metadata": {
    "id": "RPm9SlYPDUxu",
    "ExecuteTime": {
     "end_time": "2023-07-17T18:26:25.281516100Z",
     "start_time": "2023-07-17T18:26:25.268333400Z"
    }
   },
   "execution_count": 12,
   "outputs": [
    {
     "data": {
      "text/plain": "       nome          cpf  salario  encargos  salario_anual  custo_mensal  \\\n1  ANDERSON  28467813890     7138     638.0          85656        7776.0   \n4      JOAO  01855987228    11911     682.0         142932       12593.0   \n\n   custo_anual  \n1      93312.0  \n4     151116.0  ",
      "text/html": "<div>\n<style scoped>\n    .dataframe tbody tr th:only-of-type {\n        vertical-align: middle;\n    }\n\n    .dataframe tbody tr th {\n        vertical-align: top;\n    }\n\n    .dataframe thead th {\n        text-align: right;\n    }\n</style>\n<table border=\"1\" class=\"dataframe\">\n  <thead>\n    <tr style=\"text-align: right;\">\n      <th></th>\n      <th>nome</th>\n      <th>cpf</th>\n      <th>salario</th>\n      <th>encargos</th>\n      <th>salario_anual</th>\n      <th>custo_mensal</th>\n      <th>custo_anual</th>\n    </tr>\n  </thead>\n  <tbody>\n    <tr>\n      <th>1</th>\n      <td>ANDERSON</td>\n      <td>28467813890</td>\n      <td>7138</td>\n      <td>638.0</td>\n      <td>85656</td>\n      <td>7776.0</td>\n      <td>93312.0</td>\n    </tr>\n    <tr>\n      <th>4</th>\n      <td>JOAO</td>\n      <td>01855987228</td>\n      <td>11911</td>\n      <td>682.0</td>\n      <td>142932</td>\n      <td>12593.0</td>\n      <td>151116.0</td>\n    </tr>\n  </tbody>\n</table>\n</div>"
     },
     "execution_count": 12,
     "metadata": {},
     "output_type": "execute_result"
    }
   ]
  },
  {
   "cell_type": "code",
   "source": [
    "# d) \n",
    "folha[[\"nome\", \"salario\", \"encargos\", \"custo_anual\"]][folha[\"salario\"] > 4200]"
   ],
   "metadata": {
    "id": "C4rUjaDTD_qs",
    "ExecuteTime": {
     "end_time": "2023-07-17T18:26:25.943204100Z",
     "start_time": "2023-07-17T18:26:25.909082900Z"
    }
   },
   "execution_count": 13,
   "outputs": [
    {
     "data": {
      "text/plain": "       nome  salario  encargos  custo_anual\n1  ANDERSON     7138     638.0      93312.0\n2   BEATRIZ     4491     455.0      59352.0\n4      JOAO    11911     682.0     151116.0",
      "text/html": "<div>\n<style scoped>\n    .dataframe tbody tr th:only-of-type {\n        vertical-align: middle;\n    }\n\n    .dataframe tbody tr th {\n        vertical-align: top;\n    }\n\n    .dataframe thead th {\n        text-align: right;\n    }\n</style>\n<table border=\"1\" class=\"dataframe\">\n  <thead>\n    <tr style=\"text-align: right;\">\n      <th></th>\n      <th>nome</th>\n      <th>salario</th>\n      <th>encargos</th>\n      <th>custo_anual</th>\n    </tr>\n  </thead>\n  <tbody>\n    <tr>\n      <th>1</th>\n      <td>ANDERSON</td>\n      <td>7138</td>\n      <td>638.0</td>\n      <td>93312.0</td>\n    </tr>\n    <tr>\n      <th>2</th>\n      <td>BEATRIZ</td>\n      <td>4491</td>\n      <td>455.0</td>\n      <td>59352.0</td>\n    </tr>\n    <tr>\n      <th>4</th>\n      <td>JOAO</td>\n      <td>11911</td>\n      <td>682.0</td>\n      <td>151116.0</td>\n    </tr>\n  </tbody>\n</table>\n</div>"
     },
     "execution_count": 13,
     "metadata": {},
     "output_type": "execute_result"
    }
   ]
  },
  {
   "cell_type": "markdown",
   "source": [],
   "metadata": {
    "id": "YO89zWra-9eb"
   }
  }
 ]
}
