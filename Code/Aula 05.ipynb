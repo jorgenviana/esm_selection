{
 "nbformat": 4,
 "nbformat_minor": 0,
 "metadata": {
  "colab": {
   "provenance": [],
   "toc_visible": true,
   "mount_file_id": "1b1Lc_Zlo9fwp4gfvB373fuTezC8-OACF",
   "authorship_tag": "ABX9TyMO+NsN8f9Ux6G2kyJO5Kln"
  },
  "kernelspec": {
   "name": "python3",
   "language": "python",
   "display_name": "Python 3 (ipykernel)"
  },
  "language_info": {
   "name": "python"
  }
 },
 "cells": [
  {
   "cell_type": "markdown",
   "source": [
    "# Aula 06 - Manipulação Intermediária de Dados\n",
    "\n",
    "## **Resumo**: Exerícios de merge, alongamento e alargamento de DataFrames no Pandas"
   ],
   "metadata": {
    "id": "pfU_XxjR5pPi"
   }
  },
  {
   "cell_type": "markdown",
   "source": [
    "# I CARREGAMENTO DOS PACOTES NECESSÁRIOS"
   ],
   "metadata": {
    "id": "XluF2DLOIQgN"
   }
  },
  {
   "cell_type": "code",
   "execution_count": 4,
   "metadata": {
    "id": "Jv5A6yHUs5jf",
    "executionInfo": {
     "status": "ok",
     "timestamp": 1686834342087,
     "user_tz": 180,
     "elapsed": 442,
     "user": {
      "displayName": "Jorge Henrique Norões Viana (Jorge Norões)",
      "userId": "06491976507538502273"
     }
    },
    "ExecuteTime": {
     "end_time": "2023-07-18T19:44:05.127014Z",
     "start_time": "2023-07-18T19:44:05.086381Z"
    }
   },
   "outputs": [],
   "source": [
    "import os\n",
    "import pandas as pd\n",
    "import numpy as np\n",
    "import seaborn as sns\n",
    "import matplotlib.pyplot as plt\n",
    "\n",
    "from pathlib import Path\n",
    "from tqdm import tqdm"
   ]
  },
  {
   "cell_type": "markdown",
   "source": [
    "# II DIRETÓRIOS"
   ],
   "metadata": {
    "id": "ni8HvroNJ2sk"
   }
  },
  {
   "cell_type": "code",
   "source": [
    "os.chdir(\"G:\\\\Meu Drive\\\\Selection\\\\esm_selection\")\n",
    "root_dir   = Path(os.getcwd())\n",
    "input_dir  = Path(root_dir, \"Data/Input\")\n",
    "output_dir = Path(root_dir, \"Data/Output\")\n",
    "figure_dir = Path(root_dir, 'Figures/')\n",
    "output_dir"
   ],
   "metadata": {
    "id": "ld-aCoigIXMJ",
    "colab": {
     "base_uri": "https://localhost:8080/"
    },
    "executionInfo": {
     "status": "ok",
     "timestamp": 1686834342485,
     "user_tz": 180,
     "elapsed": 4,
     "user": {
      "displayName": "Jorge Henrique Norões Viana (Jorge Norões)",
      "userId": "06491976507538502273"
     }
    },
    "outputId": "80a0b03a-15d8-432b-c93a-21c89473017c",
    "ExecuteTime": {
     "end_time": "2023-07-18T19:44:06.629904600Z",
     "start_time": "2023-07-18T19:44:06.613154800Z"
    }
   },
   "execution_count": 5,
   "outputs": [
    {
     "data": {
      "text/plain": "WindowsPath('G:/Meu Drive/Selection/esm_selection/Data/Output')"
     },
     "execution_count": 5,
     "metadata": {},
     "output_type": "execute_result"
    }
   ]
  },
  {
   "cell_type": "markdown",
   "source": [
    "# III ABERTURA DOS DADOS"
   ],
   "metadata": {
    "collapsed": false
   }
  },
  {
   "cell_type": "code",
   "execution_count": 51,
   "outputs": [
    {
     "data": {
      "text/plain": "               cpf  salario_2022  encargos_2022  custo_mensal_2022  \\\n0     908777362057   7770.572573    5797.353444       13567.926017   \n1     324268288911  14471.245893    4782.346582       19253.592475   \n2     766148980149   4041.839442    2675.026754        6716.866196   \n3     575223597306  15934.277988    5200.940121       21135.218109   \n4     900619489281   3734.132159    4491.450285        8225.582443   \n...            ...           ...            ...                ...   \n7958  987599552888  29737.956709    7036.353232       36774.309940   \n7959  577833528199  32065.018319    7637.138842       39702.157161   \n7960  920324446993   8149.878535    2805.566032       10955.444567   \n7961  631234133516  10490.035108    5548.140741       16038.175849   \n7962  177894774588  10667.031555    4479.182364       15146.213918   \n\n      custo_anual_2022  salario_2023  encargos_2023  custo_mensal_2023  \\\n0        162815.112204   9324.687088    6956.824132       16281.511220   \n1        231043.109703  17365.495071    5738.815899       23104.310970   \n2         80602.394348   4850.207330    3210.032104        8060.239435   \n3        253622.617309  19121.133586    6241.128145       25362.261731   \n4         98706.989320   4480.958590    5389.740342        9870.698932   \n...                ...           ...            ...                ...   \n7958     441291.719283  35685.548050    8443.623878       44129.171928   \n7959     476425.885928  38478.021983    9164.566610       47642.588593   \n7960     131465.334809   9779.854242    3366.679239       13146.533481   \n7961     192458.110188  12588.042130    6657.768889       19245.811019   \n7962     181754.567020  12800.437866    5375.018836       18175.456702   \n\n      custo_anual_2023  \n0        195378.134645  \n1        277251.731643  \n2         96722.873218  \n3        304347.140771  \n4        118448.387184  \n...                ...  \n7958     529550.063140  \n7959     571711.063114  \n7960     157758.401770  \n7961     230949.732226  \n7962     218105.480424  \n\n[7963 rows x 9 columns]",
      "text/html": "<div>\n<style scoped>\n    .dataframe tbody tr th:only-of-type {\n        vertical-align: middle;\n    }\n\n    .dataframe tbody tr th {\n        vertical-align: top;\n    }\n\n    .dataframe thead th {\n        text-align: right;\n    }\n</style>\n<table border=\"1\" class=\"dataframe\">\n  <thead>\n    <tr style=\"text-align: right;\">\n      <th></th>\n      <th>cpf</th>\n      <th>salario_2022</th>\n      <th>encargos_2022</th>\n      <th>custo_mensal_2022</th>\n      <th>custo_anual_2022</th>\n      <th>salario_2023</th>\n      <th>encargos_2023</th>\n      <th>custo_mensal_2023</th>\n      <th>custo_anual_2023</th>\n    </tr>\n  </thead>\n  <tbody>\n    <tr>\n      <th>0</th>\n      <td>908777362057</td>\n      <td>7770.572573</td>\n      <td>5797.353444</td>\n      <td>13567.926017</td>\n      <td>162815.112204</td>\n      <td>9324.687088</td>\n      <td>6956.824132</td>\n      <td>16281.511220</td>\n      <td>195378.134645</td>\n    </tr>\n    <tr>\n      <th>1</th>\n      <td>324268288911</td>\n      <td>14471.245893</td>\n      <td>4782.346582</td>\n      <td>19253.592475</td>\n      <td>231043.109703</td>\n      <td>17365.495071</td>\n      <td>5738.815899</td>\n      <td>23104.310970</td>\n      <td>277251.731643</td>\n    </tr>\n    <tr>\n      <th>2</th>\n      <td>766148980149</td>\n      <td>4041.839442</td>\n      <td>2675.026754</td>\n      <td>6716.866196</td>\n      <td>80602.394348</td>\n      <td>4850.207330</td>\n      <td>3210.032104</td>\n      <td>8060.239435</td>\n      <td>96722.873218</td>\n    </tr>\n    <tr>\n      <th>3</th>\n      <td>575223597306</td>\n      <td>15934.277988</td>\n      <td>5200.940121</td>\n      <td>21135.218109</td>\n      <td>253622.617309</td>\n      <td>19121.133586</td>\n      <td>6241.128145</td>\n      <td>25362.261731</td>\n      <td>304347.140771</td>\n    </tr>\n    <tr>\n      <th>4</th>\n      <td>900619489281</td>\n      <td>3734.132159</td>\n      <td>4491.450285</td>\n      <td>8225.582443</td>\n      <td>98706.989320</td>\n      <td>4480.958590</td>\n      <td>5389.740342</td>\n      <td>9870.698932</td>\n      <td>118448.387184</td>\n    </tr>\n    <tr>\n      <th>...</th>\n      <td>...</td>\n      <td>...</td>\n      <td>...</td>\n      <td>...</td>\n      <td>...</td>\n      <td>...</td>\n      <td>...</td>\n      <td>...</td>\n      <td>...</td>\n    </tr>\n    <tr>\n      <th>7958</th>\n      <td>987599552888</td>\n      <td>29737.956709</td>\n      <td>7036.353232</td>\n      <td>36774.309940</td>\n      <td>441291.719283</td>\n      <td>35685.548050</td>\n      <td>8443.623878</td>\n      <td>44129.171928</td>\n      <td>529550.063140</td>\n    </tr>\n    <tr>\n      <th>7959</th>\n      <td>577833528199</td>\n      <td>32065.018319</td>\n      <td>7637.138842</td>\n      <td>39702.157161</td>\n      <td>476425.885928</td>\n      <td>38478.021983</td>\n      <td>9164.566610</td>\n      <td>47642.588593</td>\n      <td>571711.063114</td>\n    </tr>\n    <tr>\n      <th>7960</th>\n      <td>920324446993</td>\n      <td>8149.878535</td>\n      <td>2805.566032</td>\n      <td>10955.444567</td>\n      <td>131465.334809</td>\n      <td>9779.854242</td>\n      <td>3366.679239</td>\n      <td>13146.533481</td>\n      <td>157758.401770</td>\n    </tr>\n    <tr>\n      <th>7961</th>\n      <td>631234133516</td>\n      <td>10490.035108</td>\n      <td>5548.140741</td>\n      <td>16038.175849</td>\n      <td>192458.110188</td>\n      <td>12588.042130</td>\n      <td>6657.768889</td>\n      <td>19245.811019</td>\n      <td>230949.732226</td>\n    </tr>\n    <tr>\n      <th>7962</th>\n      <td>177894774588</td>\n      <td>10667.031555</td>\n      <td>4479.182364</td>\n      <td>15146.213918</td>\n      <td>181754.567020</td>\n      <td>12800.437866</td>\n      <td>5375.018836</td>\n      <td>18175.456702</td>\n      <td>218105.480424</td>\n    </tr>\n  </tbody>\n</table>\n<p>7963 rows × 9 columns</p>\n</div>"
     },
     "execution_count": 51,
     "metadata": {},
     "output_type": "execute_result"
    }
   ],
   "source": [
    "pagamentos = (pd.read_table(Path(input_dir, \"Folha_pagamento_comma.txt\"), sep = \",\" )\n",
    "              .drop([\"Nome\", \"Salário\", \"Encargos\"], axis = 1)\n",
    "              .assign(salario = lambda df: np.random.triangular(1320, 2500, 49000, size = df.shape[0]),\n",
    "                      encargos = lambda df: 0.15*df[\"salario\"] + np.random.triangular(100, 500, 2000, size = df.shape[0])\n",
    "                                            +  np.random.triangular(10, 50, 100, size = df.shape[0])**2,\n",
    "                      custo_mensal = lambda df: df[\"encargos\"] + df[\"salario\"],\n",
    "                      custo_anual = lambda df: df[\"custo_mensal\"]*12\n",
    "                      )\n",
    "              .rename(columns = {\"CPF_fake\": \"cpf\",\n",
    "                                 \"salario\": \"salario_2022\",\n",
    "                                 \"encargos\": \"encargos_2022\",\n",
    "                                 \"custo_mensal\": \"custo_mensal_2022\",\n",
    "                                 \"custo_anual\": \"custo_anual_2022\"} )\n",
    "              .assign(salario_2023 = lambda df: 1.20*df[\"salario_2022\"],\n",
    "                      encargos_2023  = lambda df: 1.20*df[\"encargos_2022\"],\n",
    "                      custo_mensal_2023  = lambda df: 1.20*df[\"custo_mensal_2022\"],\n",
    "                      custo_anual_2023  = lambda df: 1.20*df[\"custo_anual_2022\"]\n",
    "                      )\n",
    "              )\n",
    "\n",
    "pagamentos"
   ],
   "metadata": {
    "collapsed": false,
    "ExecuteTime": {
     "end_time": "2023-07-18T20:34:40.827590600Z",
     "start_time": "2023-07-18T20:34:40.784193400Z"
    }
   }
  },
  {
   "cell_type": "code",
   "execution_count": 52,
   "outputs": [
    {
     "data": {
      "text/plain": "           CPF_fake pessoais  values\n0      486042470594    idade      38\n1      552816674064    idade      45\n2      353936918775    idade      48\n3      569947284680    idade      31\n4      664893677867    idade      55\n...             ...      ...     ...\n11143  194277189012     sexo       1\n11144  839819481013     sexo       1\n11145  483411370264     sexo       1\n11146  178957098288     sexo       1\n11147  765528194403     sexo       1\n\n[11148 rows x 3 columns]",
      "text/html": "<div>\n<style scoped>\n    .dataframe tbody tr th:only-of-type {\n        vertical-align: middle;\n    }\n\n    .dataframe tbody tr th {\n        vertical-align: top;\n    }\n\n    .dataframe thead th {\n        text-align: right;\n    }\n</style>\n<table border=\"1\" class=\"dataframe\">\n  <thead>\n    <tr style=\"text-align: right;\">\n      <th></th>\n      <th>CPF_fake</th>\n      <th>pessoais</th>\n      <th>values</th>\n    </tr>\n  </thead>\n  <tbody>\n    <tr>\n      <th>0</th>\n      <td>486042470594</td>\n      <td>idade</td>\n      <td>38</td>\n    </tr>\n    <tr>\n      <th>1</th>\n      <td>552816674064</td>\n      <td>idade</td>\n      <td>45</td>\n    </tr>\n    <tr>\n      <th>2</th>\n      <td>353936918775</td>\n      <td>idade</td>\n      <td>48</td>\n    </tr>\n    <tr>\n      <th>3</th>\n      <td>569947284680</td>\n      <td>idade</td>\n      <td>31</td>\n    </tr>\n    <tr>\n      <th>4</th>\n      <td>664893677867</td>\n      <td>idade</td>\n      <td>55</td>\n    </tr>\n    <tr>\n      <th>...</th>\n      <td>...</td>\n      <td>...</td>\n      <td>...</td>\n    </tr>\n    <tr>\n      <th>11143</th>\n      <td>194277189012</td>\n      <td>sexo</td>\n      <td>1</td>\n    </tr>\n    <tr>\n      <th>11144</th>\n      <td>839819481013</td>\n      <td>sexo</td>\n      <td>1</td>\n    </tr>\n    <tr>\n      <th>11145</th>\n      <td>483411370264</td>\n      <td>sexo</td>\n      <td>1</td>\n    </tr>\n    <tr>\n      <th>11146</th>\n      <td>178957098288</td>\n      <td>sexo</td>\n      <td>1</td>\n    </tr>\n    <tr>\n      <th>11147</th>\n      <td>765528194403</td>\n      <td>sexo</td>\n      <td>1</td>\n    </tr>\n  </tbody>\n</table>\n<p>11148 rows × 3 columns</p>\n</div>"
     },
     "execution_count": 52,
     "metadata": {},
     "output_type": "execute_result"
    }
   ],
   "source": [
    "pessoais = (pagamentos\n",
    "            .filter([\"cpf\"], axis = 1)\n",
    "            .assign(idade = lambda df:  np.random.triangular(14, 35, 65, df.shape[0]).round(0),\n",
    "                    sexo = lambda df:  np.random.binomial(1, 0.75, size = df.shape[0])\n",
    "                    )\n",
    "            .astype({\"idade\": \"int\"})\n",
    "            .sample(frac = 0.70)\n",
    "            .rename(columns = {\"cpf\": \"CPF_fake\"})\n",
    "            .melt(id_vars = [\"CPF_fake\"], value_vars = [\"idade\", \"sexo\"], var_name = \"pessoais\", value_name = \"values\")\n",
    "            )\n",
    "\n",
    "pessoais"
   ],
   "metadata": {
    "collapsed": false,
    "ExecuteTime": {
     "end_time": "2023-07-18T20:34:46.435635400Z",
     "start_time": "2023-07-18T20:34:46.417689800Z"
    }
   }
  },
  {
   "cell_type": "markdown",
   "source": [
    "# Exercício 1: Merge"
   ],
   "metadata": {
    "id": "mIo10nnXQnil"
   }
  },
  {
   "cell_type": "code",
   "execution_count": 53,
   "outputs": [
    {
     "name": "stdout",
     "output_type": "stream",
     "text": [
      "<class 'pandas.core.frame.DataFrame'>\n",
      "Int64Index: 13537 entries, 0 to 13536\n",
      "Data columns (total 12 columns):\n",
      " #   Column             Non-Null Count  Dtype  \n",
      "---  ------             --------------  -----  \n",
      " 0   cpf                13537 non-null  int64  \n",
      " 1   salario_2022       13537 non-null  float64\n",
      " 2   encargos_2022      13537 non-null  float64\n",
      " 3   custo_mensal_2022  13537 non-null  float64\n",
      " 4   custo_anual_2022   13537 non-null  float64\n",
      " 5   salario_2023       13537 non-null  float64\n",
      " 6   encargos_2023      13537 non-null  float64\n",
      " 7   custo_mensal_2023  13537 non-null  float64\n",
      " 8   custo_anual_2023   13537 non-null  float64\n",
      " 9   CPF_fake           11148 non-null  float64\n",
      " 10  pessoais           11148 non-null  object \n",
      " 11  values             11148 non-null  float64\n",
      "dtypes: float64(10), int64(1), object(1)\n",
      "memory usage: 1.3+ MB\n"
     ]
    }
   ],
   "source": [
    "# a)\n",
    "data = (pagamentos\n",
    "        .merge(pessoais, how = \"left\", left_on = \"cpf\", right_on = \"CPF_fake\")\n",
    "        )\n",
    "\n",
    "data.info()"
   ],
   "metadata": {
    "collapsed": false,
    "ExecuteTime": {
     "end_time": "2023-07-18T20:34:50.635669800Z",
     "start_time": "2023-07-18T20:34:50.607764400Z"
    }
   }
  },
  {
   "cell_type": "code",
   "execution_count": 54,
   "outputs": [
    {
     "name": "stdout",
     "output_type": "stream",
     "text": [
      "<class 'pandas.core.frame.DataFrame'>\n",
      "Int64Index: 11148 entries, 0 to 11147\n",
      "Data columns (total 12 columns):\n",
      " #   Column             Non-Null Count  Dtype  \n",
      "---  ------             --------------  -----  \n",
      " 0   cpf                11148 non-null  int64  \n",
      " 1   salario_2022       11148 non-null  float64\n",
      " 2   encargos_2022      11148 non-null  float64\n",
      " 3   custo_mensal_2022  11148 non-null  float64\n",
      " 4   custo_anual_2022   11148 non-null  float64\n",
      " 5   salario_2023       11148 non-null  float64\n",
      " 6   encargos_2023      11148 non-null  float64\n",
      " 7   custo_mensal_2023  11148 non-null  float64\n",
      " 8   custo_anual_2023   11148 non-null  float64\n",
      " 9   CPF_fake           11148 non-null  int64  \n",
      " 10  pessoais           11148 non-null  object \n",
      " 11  values             11148 non-null  int32  \n",
      "dtypes: float64(8), int32(1), int64(2), object(1)\n",
      "memory usage: 1.1+ MB\n"
     ]
    }
   ],
   "source": [
    "# b)\n",
    "data = (pagamentos\n",
    "        .merge(pessoais, how = \"right\", left_on = \"cpf\", right_on = \"CPF_fake\")\n",
    "        )\n",
    "\n",
    "data.info()"
   ],
   "metadata": {
    "collapsed": false,
    "ExecuteTime": {
     "end_time": "2023-07-18T20:35:04.535004400Z",
     "start_time": "2023-07-18T20:35:04.521701400Z"
    }
   }
  },
  {
   "cell_type": "code",
   "execution_count": 55,
   "outputs": [
    {
     "name": "stdout",
     "output_type": "stream",
     "text": [
      "<class 'pandas.core.frame.DataFrame'>\n",
      "Int64Index: 11148 entries, 0 to 11147\n",
      "Data columns (total 12 columns):\n",
      " #   Column             Non-Null Count  Dtype  \n",
      "---  ------             --------------  -----  \n",
      " 0   cpf                11148 non-null  int64  \n",
      " 1   salario_2022       11148 non-null  float64\n",
      " 2   encargos_2022      11148 non-null  float64\n",
      " 3   custo_mensal_2022  11148 non-null  float64\n",
      " 4   custo_anual_2022   11148 non-null  float64\n",
      " 5   salario_2023       11148 non-null  float64\n",
      " 6   encargos_2023      11148 non-null  float64\n",
      " 7   custo_mensal_2023  11148 non-null  float64\n",
      " 8   custo_anual_2023   11148 non-null  float64\n",
      " 9   CPF_fake           11148 non-null  int64  \n",
      " 10  pessoais           11148 non-null  object \n",
      " 11  values             11148 non-null  int32  \n",
      "dtypes: float64(8), int32(1), int64(2), object(1)\n",
      "memory usage: 1.1+ MB\n"
     ]
    }
   ],
   "source": [
    "# c)\n",
    "data = (pagamentos\n",
    "        .merge(pessoais, how = \"inner\", left_on = \"cpf\", right_on = \"CPF_fake\")\n",
    "        )\n",
    "\n",
    "data.info()"
   ],
   "metadata": {
    "collapsed": false,
    "ExecuteTime": {
     "end_time": "2023-07-18T20:35:06.742117900Z",
     "start_time": "2023-07-18T20:35:06.698860300Z"
    }
   }
  },
  {
   "cell_type": "code",
   "execution_count": 62,
   "outputs": [
    {
     "name": "stdout",
     "output_type": "stream",
     "text": [
      "<class 'pandas.core.frame.DataFrame'>\n",
      "Int64Index: 13537 entries, 0 to 13536\n",
      "Data columns (total 12 columns):\n",
      " #   Column             Non-Null Count  Dtype  \n",
      "---  ------             --------------  -----  \n",
      " 0   cpf                13537 non-null  int64  \n",
      " 1   salario_2022       13537 non-null  float64\n",
      " 2   encargos_2022      13537 non-null  float64\n",
      " 3   custo_mensal_2022  13537 non-null  float64\n",
      " 4   custo_anual_2022   13537 non-null  float64\n",
      " 5   salario_2023       13537 non-null  float64\n",
      " 6   encargos_2023      13537 non-null  float64\n",
      " 7   custo_mensal_2023  13537 non-null  float64\n",
      " 8   custo_anual_2023   13537 non-null  float64\n",
      " 9   CPF_fake           11148 non-null  float64\n",
      " 10  pessoais           11148 non-null  object \n",
      " 11  values             11148 non-null  float64\n",
      "dtypes: float64(10), int64(1), object(1)\n",
      "memory usage: 1.3+ MB\n"
     ]
    }
   ],
   "source": [
    "# d)\n",
    "data = (pagamentos\n",
    "        .merge(pessoais, how = \"outer\", left_on = \"cpf\", right_on = \"CPF_fake\")\n",
    "        )\n",
    "\n",
    "data.info()"
   ],
   "metadata": {
    "collapsed": false,
    "ExecuteTime": {
     "end_time": "2023-07-18T20:40:27.595072400Z",
     "start_time": "2023-07-18T20:40:27.571192Z"
    }
   }
  },
  {
   "cell_type": "markdown",
   "source": [
    "# Exercíco 2: Alargamento e Alongamento"
   ],
   "metadata": {
    "collapsed": false
   }
  },
  {
   "cell_type": "code",
   "source": [
    "# a)\n",
    "\n",
    "data_w = (data\n",
    "          .melt(id_vars = [\"cpf\", \"pessoais\", \"values\",\n",
    "                           \"custo_mensal_2022\", \"custo_mensal_2023\",\n",
    "                           \"custo_anual_2022\", \"custo_anual_2023\"],\n",
    "                value_vars = [\"salario_2022\", \"salario_2023\"],\n",
    "                var_name = \"ano_salario\",\n",
    "                value_name    = \"salario\"\n",
    "               )\n",
    "          .assign(ano_salario = lambda df: df[\"ano_salario\"].str.slice(8,12).astype(\"int\") )\n",
    "          .melt(id_vars = [\"cpf\", \"pessoais\", \"values\",  \"salario\", \"ano_salario\",\n",
    "                           \"custo_anual_2022\", \"custo_anual_2023\"],\n",
    "                value_vars = [\"custo_mensal_2022\", \"custo_mensal_2023\"],\n",
    "                var_name = \"ano_mensal\",\n",
    "                value_name    = \"custo_mensal\"\n",
    "                )\n",
    "          .assign(ano_mensal = lambda df: df[\"ano_mensal\"].str.slice(13,17).astype(\"int\") )\n",
    "          .melt(id_vars = [\"cpf\", \"pessoais\", \"values\",  \"salario\", \"ano_salario\", \"ano_mensal\",\n",
    "                           \"custo_mensal\"],\n",
    "                value_vars = [\"custo_anual_2022\", \"custo_anual_2023\"],\n",
    "                var_name = \"ano_anual\",\n",
    "                value_name    = \"custo_anual\"\n",
    "                )\n",
    "          .assign(ano_anual = lambda df: df[\"ano_anual\"].str.slice(12,17).astype(\"int\") )\n",
    "          .drop_duplicates(keep = False)\n",
    "          .query(\" ano_salario == ano_mensal  & ano_salario == ano_anual\")\n",
    "          .rename(columns = {\"ano_mensal\": \"ano\"})\n",
    "          .drop([\"ano_anual\", \"ano_salario\"], axis = 1)\n",
    "          )\n",
    "data_w"
   ],
   "metadata": {
    "id": "dOvPa7i0_15q",
    "ExecuteTime": {
     "end_time": "2023-07-18T21:16:44.119764100Z",
     "start_time": "2023-07-18T21:16:43.993569700Z"
    }
   },
   "execution_count": 129,
   "outputs": [
    {
     "data": {
      "text/plain": "                 cpf pessoais  values       salario   ano  custo_mensal  \\\n0       908777362057    idade    23.0   7770.572573  2022  13567.926017   \n1       908777362057     sexo     1.0   7770.572573  2022  13567.926017   \n2       324268288911      NaN     NaN  14471.245893  2022  19253.592475   \n3       766148980149    idade    34.0   4041.839442  2022   6716.866196   \n4       766148980149     sexo     0.0   4041.839442  2022   6716.866196   \n...              ...      ...     ...           ...   ...           ...   \n108291  920324446993    idade    37.0   9779.854242  2023  13146.533481   \n108292  920324446993     sexo     1.0   9779.854242  2023  13146.533481   \n108293  631234133516      NaN     NaN  12588.042130  2023  19245.811019   \n108294  177894774588    idade    27.0  12800.437866  2023  18175.456702   \n108295  177894774588     sexo     0.0  12800.437866  2023  18175.456702   \n\n          custo_anual  \n0       162815.112204  \n1       162815.112204  \n2       231043.109703  \n3        80602.394348  \n4        80602.394348  \n...               ...  \n108291  157758.401770  \n108292  157758.401770  \n108293  230949.732226  \n108294  218105.480424  \n108295  218105.480424  \n\n[27074 rows x 7 columns]",
      "text/html": "<div>\n<style scoped>\n    .dataframe tbody tr th:only-of-type {\n        vertical-align: middle;\n    }\n\n    .dataframe tbody tr th {\n        vertical-align: top;\n    }\n\n    .dataframe thead th {\n        text-align: right;\n    }\n</style>\n<table border=\"1\" class=\"dataframe\">\n  <thead>\n    <tr style=\"text-align: right;\">\n      <th></th>\n      <th>cpf</th>\n      <th>pessoais</th>\n      <th>values</th>\n      <th>salario</th>\n      <th>ano</th>\n      <th>custo_mensal</th>\n      <th>custo_anual</th>\n    </tr>\n  </thead>\n  <tbody>\n    <tr>\n      <th>0</th>\n      <td>908777362057</td>\n      <td>idade</td>\n      <td>23.0</td>\n      <td>7770.572573</td>\n      <td>2022</td>\n      <td>13567.926017</td>\n      <td>162815.112204</td>\n    </tr>\n    <tr>\n      <th>1</th>\n      <td>908777362057</td>\n      <td>sexo</td>\n      <td>1.0</td>\n      <td>7770.572573</td>\n      <td>2022</td>\n      <td>13567.926017</td>\n      <td>162815.112204</td>\n    </tr>\n    <tr>\n      <th>2</th>\n      <td>324268288911</td>\n      <td>NaN</td>\n      <td>NaN</td>\n      <td>14471.245893</td>\n      <td>2022</td>\n      <td>19253.592475</td>\n      <td>231043.109703</td>\n    </tr>\n    <tr>\n      <th>3</th>\n      <td>766148980149</td>\n      <td>idade</td>\n      <td>34.0</td>\n      <td>4041.839442</td>\n      <td>2022</td>\n      <td>6716.866196</td>\n      <td>80602.394348</td>\n    </tr>\n    <tr>\n      <th>4</th>\n      <td>766148980149</td>\n      <td>sexo</td>\n      <td>0.0</td>\n      <td>4041.839442</td>\n      <td>2022</td>\n      <td>6716.866196</td>\n      <td>80602.394348</td>\n    </tr>\n    <tr>\n      <th>...</th>\n      <td>...</td>\n      <td>...</td>\n      <td>...</td>\n      <td>...</td>\n      <td>...</td>\n      <td>...</td>\n      <td>...</td>\n    </tr>\n    <tr>\n      <th>108291</th>\n      <td>920324446993</td>\n      <td>idade</td>\n      <td>37.0</td>\n      <td>9779.854242</td>\n      <td>2023</td>\n      <td>13146.533481</td>\n      <td>157758.401770</td>\n    </tr>\n    <tr>\n      <th>108292</th>\n      <td>920324446993</td>\n      <td>sexo</td>\n      <td>1.0</td>\n      <td>9779.854242</td>\n      <td>2023</td>\n      <td>13146.533481</td>\n      <td>157758.401770</td>\n    </tr>\n    <tr>\n      <th>108293</th>\n      <td>631234133516</td>\n      <td>NaN</td>\n      <td>NaN</td>\n      <td>12588.042130</td>\n      <td>2023</td>\n      <td>19245.811019</td>\n      <td>230949.732226</td>\n    </tr>\n    <tr>\n      <th>108294</th>\n      <td>177894774588</td>\n      <td>idade</td>\n      <td>27.0</td>\n      <td>12800.437866</td>\n      <td>2023</td>\n      <td>18175.456702</td>\n      <td>218105.480424</td>\n    </tr>\n    <tr>\n      <th>108295</th>\n      <td>177894774588</td>\n      <td>sexo</td>\n      <td>0.0</td>\n      <td>12800.437866</td>\n      <td>2023</td>\n      <td>18175.456702</td>\n      <td>218105.480424</td>\n    </tr>\n  </tbody>\n</table>\n<p>27074 rows × 7 columns</p>\n</div>"
     },
     "execution_count": 129,
     "metadata": {},
     "output_type": "execute_result"
    }
   ]
  },
  {
   "cell_type": "code",
   "source": [
    "# b)\n",
    "data_wl = (data_w\n",
    "           .pivot(index = [\"cpf\", \"salario\", \"ano\", \"custo_mensal\", \"custo_anual\"],\n",
    "                  columns = [\"pessoais\"],\n",
    "                  values = \"values\"\n",
    "                  )\n",
    "           .reset_index()\n",
    "           .rename_axis(None, axis = 1)\n",
    "           )\n",
    "\n",
    "data_wl"
   ],
   "metadata": {
    "id": "Vlt_8MtY8TUF",
    "ExecuteTime": {
     "end_time": "2023-07-18T21:16:45.721223800Z",
     "start_time": "2023-07-18T21:16:45.643469800Z"
    }
   },
   "execution_count": 130,
   "outputs": [
    {
     "data": {
      "text/plain": "                cpf       salario   ano  custo_mensal    custo_anual  NaN  \\\n0      111114603517  24279.619866  2022  36552.720097  438632.641162  NaN   \n1      111114603517  29135.543840  2023  43863.264116  526359.169394  NaN   \n2      111264146353  39256.718730  2022  47512.769628  570153.235536  NaN   \n3      111264146353  47108.062476  2023  57015.323554  684183.882643  NaN   \n4      111674502938  14313.409258  2022  19755.811853  237069.742234  NaN   \n...             ...           ...   ...           ...            ...  ...   \n15921  999802902460  25371.922811  2023  32705.940163  392471.281962  NaN   \n15922  999939556661  10234.133114  2022  15622.013201  187464.158415  NaN   \n15923  999939556661  12280.959737  2023  18746.415841  224956.990098  NaN   \n15924  999990680210  26804.278045  2022  35241.851436  422902.217232  NaN   \n15925  999990680210  32165.133654  2023  42290.221723  507482.660679  NaN   \n\n       idade  sexo  \n0        NaN   NaN  \n1        NaN   NaN  \n2        NaN   NaN  \n3        NaN   NaN  \n4       35.0   0.0  \n...      ...   ...  \n15921   42.0   1.0  \n15922   32.0   1.0  \n15923   32.0   1.0  \n15924   62.0   1.0  \n15925   62.0   1.0  \n\n[15926 rows x 8 columns]",
      "text/html": "<div>\n<style scoped>\n    .dataframe tbody tr th:only-of-type {\n        vertical-align: middle;\n    }\n\n    .dataframe tbody tr th {\n        vertical-align: top;\n    }\n\n    .dataframe thead th {\n        text-align: right;\n    }\n</style>\n<table border=\"1\" class=\"dataframe\">\n  <thead>\n    <tr style=\"text-align: right;\">\n      <th></th>\n      <th>cpf</th>\n      <th>salario</th>\n      <th>ano</th>\n      <th>custo_mensal</th>\n      <th>custo_anual</th>\n      <th>NaN</th>\n      <th>idade</th>\n      <th>sexo</th>\n    </tr>\n  </thead>\n  <tbody>\n    <tr>\n      <th>0</th>\n      <td>111114603517</td>\n      <td>24279.619866</td>\n      <td>2022</td>\n      <td>36552.720097</td>\n      <td>438632.641162</td>\n      <td>NaN</td>\n      <td>NaN</td>\n      <td>NaN</td>\n    </tr>\n    <tr>\n      <th>1</th>\n      <td>111114603517</td>\n      <td>29135.543840</td>\n      <td>2023</td>\n      <td>43863.264116</td>\n      <td>526359.169394</td>\n      <td>NaN</td>\n      <td>NaN</td>\n      <td>NaN</td>\n    </tr>\n    <tr>\n      <th>2</th>\n      <td>111264146353</td>\n      <td>39256.718730</td>\n      <td>2022</td>\n      <td>47512.769628</td>\n      <td>570153.235536</td>\n      <td>NaN</td>\n      <td>NaN</td>\n      <td>NaN</td>\n    </tr>\n    <tr>\n      <th>3</th>\n      <td>111264146353</td>\n      <td>47108.062476</td>\n      <td>2023</td>\n      <td>57015.323554</td>\n      <td>684183.882643</td>\n      <td>NaN</td>\n      <td>NaN</td>\n      <td>NaN</td>\n    </tr>\n    <tr>\n      <th>4</th>\n      <td>111674502938</td>\n      <td>14313.409258</td>\n      <td>2022</td>\n      <td>19755.811853</td>\n      <td>237069.742234</td>\n      <td>NaN</td>\n      <td>35.0</td>\n      <td>0.0</td>\n    </tr>\n    <tr>\n      <th>...</th>\n      <td>...</td>\n      <td>...</td>\n      <td>...</td>\n      <td>...</td>\n      <td>...</td>\n      <td>...</td>\n      <td>...</td>\n      <td>...</td>\n    </tr>\n    <tr>\n      <th>15921</th>\n      <td>999802902460</td>\n      <td>25371.922811</td>\n      <td>2023</td>\n      <td>32705.940163</td>\n      <td>392471.281962</td>\n      <td>NaN</td>\n      <td>42.0</td>\n      <td>1.0</td>\n    </tr>\n    <tr>\n      <th>15922</th>\n      <td>999939556661</td>\n      <td>10234.133114</td>\n      <td>2022</td>\n      <td>15622.013201</td>\n      <td>187464.158415</td>\n      <td>NaN</td>\n      <td>32.0</td>\n      <td>1.0</td>\n    </tr>\n    <tr>\n      <th>15923</th>\n      <td>999939556661</td>\n      <td>12280.959737</td>\n      <td>2023</td>\n      <td>18746.415841</td>\n      <td>224956.990098</td>\n      <td>NaN</td>\n      <td>32.0</td>\n      <td>1.0</td>\n    </tr>\n    <tr>\n      <th>15924</th>\n      <td>999990680210</td>\n      <td>26804.278045</td>\n      <td>2022</td>\n      <td>35241.851436</td>\n      <td>422902.217232</td>\n      <td>NaN</td>\n      <td>62.0</td>\n      <td>1.0</td>\n    </tr>\n    <tr>\n      <th>15925</th>\n      <td>999990680210</td>\n      <td>32165.133654</td>\n      <td>2023</td>\n      <td>42290.221723</td>\n      <td>507482.660679</td>\n      <td>NaN</td>\n      <td>62.0</td>\n      <td>1.0</td>\n    </tr>\n  </tbody>\n</table>\n<p>15926 rows × 8 columns</p>\n</div>"
     },
     "execution_count": 130,
     "metadata": {},
     "output_type": "execute_result"
    }
   ]
  }
 ]
}
