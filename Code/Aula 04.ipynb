{
 "nbformat": 4,
 "nbformat_minor": 0,
 "metadata": {
  "colab": {
   "provenance": [],
   "toc_visible": true,
   "mount_file_id": "1b1Lc_Zlo9fwp4gfvB373fuTezC8-OACF",
   "authorship_tag": "ABX9TyMO+NsN8f9Ux6G2kyJO5Kln"
  },
  "kernelspec": {
   "name": "python3",
   "language": "python",
   "display_name": "Python 3 (ipykernel)"
  },
  "language_info": {
   "name": "python"
  }
 },
 "cells": [
  {
   "cell_type": "markdown",
   "source": [
    "# Aula 04 - Manipulação Básica de DataFrames\n",
    "\n",
    "## **Resumo**: Exerícios de manipulação básica de DataFrames do Pandas e de como mascarar colunas de identificação."
   ],
   "metadata": {
    "id": "pfU_XxjR5pPi"
   }
  },
  {
   "cell_type": "markdown",
   "source": [
    "# I CARREGAMENTO DOS PACOTES NECESSÁRIOS"
   ],
   "metadata": {
    "id": "XluF2DLOIQgN"
   }
  },
  {
   "cell_type": "code",
   "execution_count": 4,
   "metadata": {
    "id": "Jv5A6yHUs5jf",
    "executionInfo": {
     "status": "ok",
     "timestamp": 1686834342087,
     "user_tz": 180,
     "elapsed": 442,
     "user": {
      "displayName": "Jorge Henrique Norões Viana (Jorge Norões)",
      "userId": "06491976507538502273"
     }
    },
    "ExecuteTime": {
     "end_time": "2023-07-17T18:49:46.235862900Z",
     "start_time": "2023-07-17T18:49:46.218736100Z"
    }
   },
   "outputs": [],
   "source": [
    "import os\n",
    "import pandas as pd\n",
    "import hashlib\n",
    "\n",
    "from pathlib import Path"
   ]
  },
  {
   "cell_type": "markdown",
   "source": [
    "# II DIRETÓRIOS"
   ],
   "metadata": {
    "id": "ni8HvroNJ2sk"
   }
  },
  {
   "cell_type": "code",
   "source": [
    "os.chdir(\"G:\\\\Meu Drive\\\\Selection\\\\esm_selection\")\n",
    "root_dir   = Path(os.getcwd())\n",
    "input_dir  = Path(root_dir, \"Data/Input\")\n",
    "output_dir = Path(root_dir, \"Data/Output\")\n",
    "output_dir"
   ],
   "metadata": {
    "id": "ld-aCoigIXMJ",
    "colab": {
     "base_uri": "https://localhost:8080/"
    },
    "executionInfo": {
     "status": "ok",
     "timestamp": 1686834342485,
     "user_tz": 180,
     "elapsed": 4,
     "user": {
      "displayName": "Jorge Henrique Norões Viana (Jorge Norões)",
      "userId": "06491976507538502273"
     }
    },
    "outputId": "80a0b03a-15d8-432b-c93a-21c89473017c",
    "ExecuteTime": {
     "end_time": "2023-07-17T18:49:46.901234600Z",
     "start_time": "2023-07-17T18:49:46.885234800Z"
    }
   },
   "execution_count": 5,
   "outputs": [
    {
     "data": {
      "text/plain": "WindowsPath('G:/Meu Drive/Selection/esm_selection/Data/Output')"
     },
     "execution_count": 5,
     "metadata": {},
     "output_type": "execute_result"
    }
   ]
  },
  {
   "cell_type": "markdown",
   "source": [
    "# Exercício 1: Manipulação Básica"
   ],
   "metadata": {
    "id": "mIo10nnXQnil"
   }
  },
  {
   "cell_type": "code",
   "source": [
    "# Tipos\n",
    "types = {\"CPF_fake\": \"str\",\n",
    "         \"Salário\": \"float32\",\n",
    "         \"Encargos\": \"int16\"}\n",
    "\n",
    "# Leitura\n",
    "pagamentos = pd.read_table(Path(input_dir, \"Folha_pagamento_comma.txt\"), sep = \",\",\n",
    "                           index_col = False, dtype = types)\n",
    "pagamentos.head(5)"
   ],
   "metadata": {
    "id": "gDZrb-uIRRg1",
    "colab": {
     "base_uri": "https://localhost:8080/",
     "height": 206
    },
    "executionInfo": {
     "status": "ok",
     "timestamp": 1686834513202,
     "user_tz": 180,
     "elapsed": 4,
     "user": {
      "displayName": "Jorge Henrique Norões Viana (Jorge Norões)",
      "userId": "06491976507538502273"
     }
    },
    "outputId": "87dcd600-e903-4131-852f-db87698b925b",
    "ExecuteTime": {
     "end_time": "2023-07-17T18:49:47.835979800Z",
     "start_time": "2023-07-17T18:49:47.794975100Z"
    }
   },
   "execution_count": 6,
   "outputs": [
    {
     "data": {
      "text/plain": "        Nome      CPF_fake       Salário  Encargos\n0      AÉLIO  908777362057  22771.880859       634\n1       ALDA  324268288911  20637.560547       538\n2  ALEXANDRE  766148980149  27527.339844       330\n3      ALINE  575223597306  29147.300781       641\n4        ANA  900619489281  37617.300781       789",
      "text/html": "<div>\n<style scoped>\n    .dataframe tbody tr th:only-of-type {\n        vertical-align: middle;\n    }\n\n    .dataframe tbody tr th {\n        vertical-align: top;\n    }\n\n    .dataframe thead th {\n        text-align: right;\n    }\n</style>\n<table border=\"1\" class=\"dataframe\">\n  <thead>\n    <tr style=\"text-align: right;\">\n      <th></th>\n      <th>Nome</th>\n      <th>CPF_fake</th>\n      <th>Salário</th>\n      <th>Encargos</th>\n    </tr>\n  </thead>\n  <tbody>\n    <tr>\n      <th>0</th>\n      <td>AÉLIO</td>\n      <td>908777362057</td>\n      <td>22771.880859</td>\n      <td>634</td>\n    </tr>\n    <tr>\n      <th>1</th>\n      <td>ALDA</td>\n      <td>324268288911</td>\n      <td>20637.560547</td>\n      <td>538</td>\n    </tr>\n    <tr>\n      <th>2</th>\n      <td>ALEXANDRE</td>\n      <td>766148980149</td>\n      <td>27527.339844</td>\n      <td>330</td>\n    </tr>\n    <tr>\n      <th>3</th>\n      <td>ALINE</td>\n      <td>575223597306</td>\n      <td>29147.300781</td>\n      <td>641</td>\n    </tr>\n    <tr>\n      <th>4</th>\n      <td>ANA</td>\n      <td>900619489281</td>\n      <td>37617.300781</td>\n      <td>789</td>\n    </tr>\n  </tbody>\n</table>\n</div>"
     },
     "execution_count": 6,
     "metadata": {},
     "output_type": "execute_result"
    }
   ]
  },
  {
   "cell_type": "code",
   "source": [
    "# a)\n",
    "pagamentos = pagamentos.rename(columns = {\"Nome\": \"nome\",\n",
    "                                          \"CPF_fake\": \"cpf\",\n",
    "                                          \"Salário\": \"salario\",\n",
    "                                          \"Encargos\": \"encargos\"})\n",
    "pagamentos.head(5)"
   ],
   "metadata": {
    "id": "EL0-EO_ZRSsi",
    "colab": {
     "base_uri": "https://localhost:8080/",
     "height": 206
    },
    "executionInfo": {
     "status": "ok",
     "timestamp": 1686834516649,
     "user_tz": 180,
     "elapsed": 346,
     "user": {
      "displayName": "Jorge Henrique Norões Viana (Jorge Norões)",
      "userId": "06491976507538502273"
     }
    },
    "outputId": "c40c1762-b4a0-4a26-c8ea-c288c532a5c2",
    "ExecuteTime": {
     "end_time": "2023-07-17T18:49:48.674867800Z",
     "start_time": "2023-07-17T18:49:48.641949Z"
    }
   },
   "execution_count": 7,
   "outputs": [
    {
     "data": {
      "text/plain": "        nome           cpf       salario  encargos\n0      AÉLIO  908777362057  22771.880859       634\n1       ALDA  324268288911  20637.560547       538\n2  ALEXANDRE  766148980149  27527.339844       330\n3      ALINE  575223597306  29147.300781       641\n4        ANA  900619489281  37617.300781       789",
      "text/html": "<div>\n<style scoped>\n    .dataframe tbody tr th:only-of-type {\n        vertical-align: middle;\n    }\n\n    .dataframe tbody tr th {\n        vertical-align: top;\n    }\n\n    .dataframe thead th {\n        text-align: right;\n    }\n</style>\n<table border=\"1\" class=\"dataframe\">\n  <thead>\n    <tr style=\"text-align: right;\">\n      <th></th>\n      <th>nome</th>\n      <th>cpf</th>\n      <th>salario</th>\n      <th>encargos</th>\n    </tr>\n  </thead>\n  <tbody>\n    <tr>\n      <th>0</th>\n      <td>AÉLIO</td>\n      <td>908777362057</td>\n      <td>22771.880859</td>\n      <td>634</td>\n    </tr>\n    <tr>\n      <th>1</th>\n      <td>ALDA</td>\n      <td>324268288911</td>\n      <td>20637.560547</td>\n      <td>538</td>\n    </tr>\n    <tr>\n      <th>2</th>\n      <td>ALEXANDRE</td>\n      <td>766148980149</td>\n      <td>27527.339844</td>\n      <td>330</td>\n    </tr>\n    <tr>\n      <th>3</th>\n      <td>ALINE</td>\n      <td>575223597306</td>\n      <td>29147.300781</td>\n      <td>641</td>\n    </tr>\n    <tr>\n      <th>4</th>\n      <td>ANA</td>\n      <td>900619489281</td>\n      <td>37617.300781</td>\n      <td>789</td>\n    </tr>\n  </tbody>\n</table>\n</div>"
     },
     "execution_count": 7,
     "metadata": {},
     "output_type": "execute_result"
    }
   ]
  },
  {
   "cell_type": "code",
   "source": [
    "# b)\n",
    "pagamentos = pagamentos.astype({\"encargos\": \"float32\"})\n",
    "\n",
    "pagamentos.info()"
   ],
   "metadata": {
    "id": "pjaVwGdGpBqe",
    "colab": {
     "base_uri": "https://localhost:8080/"
    },
    "executionInfo": {
     "status": "ok",
     "timestamp": 1686834518435,
     "user_tz": 180,
     "elapsed": 313,
     "user": {
      "displayName": "Jorge Henrique Norões Viana (Jorge Norões)",
      "userId": "06491976507538502273"
     }
    },
    "outputId": "91fb05c3-86e6-4efc-fbe9-d4b26e403bf5",
    "ExecuteTime": {
     "end_time": "2023-07-17T18:49:49.352254900Z",
     "start_time": "2023-07-17T18:49:49.332685600Z"
    }
   },
   "execution_count": 8,
   "outputs": [
    {
     "name": "stdout",
     "output_type": "stream",
     "text": [
      "<class 'pandas.core.frame.DataFrame'>\n",
      "RangeIndex: 7963 entries, 0 to 7962\n",
      "Data columns (total 4 columns):\n",
      " #   Column    Non-Null Count  Dtype  \n",
      "---  ------    --------------  -----  \n",
      " 0   nome      7963 non-null   object \n",
      " 1   cpf       7963 non-null   object \n",
      " 2   salario   7963 non-null   float32\n",
      " 3   encargos  7963 non-null   float32\n",
      "dtypes: float32(2), object(2)\n",
      "memory usage: 186.8+ KB\n"
     ]
    }
   ]
  },
  {
   "cell_type": "code",
   "source": [
    "# c)\n",
    "pagamentos = pagamentos.assign(custo_mensal  = lambda x: x[\"salario\"] +  x[\"encargos\"],\n",
    "                               salario_anual = lambda x: x[\"salario\"] * 12,\n",
    "                               custo_anual   = lambda x: x[\"custo_mensal\"] *12\n",
    "                               )\n",
    "pagamentos.head(5)"
   ],
   "metadata": {
    "id": "TFIzdgIspY5z",
    "ExecuteTime": {
     "end_time": "2023-07-17T18:49:49.983953800Z",
     "start_time": "2023-07-17T18:49:49.960627200Z"
    }
   },
   "execution_count": 9,
   "outputs": [
    {
     "data": {
      "text/plain": "        nome           cpf       salario  encargos  custo_mensal  \\\n0      AÉLIO  908777362057  22771.880859     634.0  23405.880859   \n1       ALDA  324268288911  20637.560547     538.0  21175.560547   \n2  ALEXANDRE  766148980149  27527.339844     330.0  27857.339844   \n3      ALINE  575223597306  29147.300781     641.0  29788.300781   \n4        ANA  900619489281  37617.300781     789.0  38406.300781   \n\n   salario_anual   custo_anual  \n0   273262.56250  280870.56250  \n1   247650.71875  254106.71875  \n2   330328.06250  334288.06250  \n3   349767.62500  357459.62500  \n4   451407.62500  460875.62500  ",
      "text/html": "<div>\n<style scoped>\n    .dataframe tbody tr th:only-of-type {\n        vertical-align: middle;\n    }\n\n    .dataframe tbody tr th {\n        vertical-align: top;\n    }\n\n    .dataframe thead th {\n        text-align: right;\n    }\n</style>\n<table border=\"1\" class=\"dataframe\">\n  <thead>\n    <tr style=\"text-align: right;\">\n      <th></th>\n      <th>nome</th>\n      <th>cpf</th>\n      <th>salario</th>\n      <th>encargos</th>\n      <th>custo_mensal</th>\n      <th>salario_anual</th>\n      <th>custo_anual</th>\n    </tr>\n  </thead>\n  <tbody>\n    <tr>\n      <th>0</th>\n      <td>AÉLIO</td>\n      <td>908777362057</td>\n      <td>22771.880859</td>\n      <td>634.0</td>\n      <td>23405.880859</td>\n      <td>273262.56250</td>\n      <td>280870.56250</td>\n    </tr>\n    <tr>\n      <th>1</th>\n      <td>ALDA</td>\n      <td>324268288911</td>\n      <td>20637.560547</td>\n      <td>538.0</td>\n      <td>21175.560547</td>\n      <td>247650.71875</td>\n      <td>254106.71875</td>\n    </tr>\n    <tr>\n      <th>2</th>\n      <td>ALEXANDRE</td>\n      <td>766148980149</td>\n      <td>27527.339844</td>\n      <td>330.0</td>\n      <td>27857.339844</td>\n      <td>330328.06250</td>\n      <td>334288.06250</td>\n    </tr>\n    <tr>\n      <th>3</th>\n      <td>ALINE</td>\n      <td>575223597306</td>\n      <td>29147.300781</td>\n      <td>641.0</td>\n      <td>29788.300781</td>\n      <td>349767.62500</td>\n      <td>357459.62500</td>\n    </tr>\n    <tr>\n      <th>4</th>\n      <td>ANA</td>\n      <td>900619489281</td>\n      <td>37617.300781</td>\n      <td>789.0</td>\n      <td>38406.300781</td>\n      <td>451407.62500</td>\n      <td>460875.62500</td>\n    </tr>\n  </tbody>\n</table>\n</div>"
     },
     "execution_count": 9,
     "metadata": {},
     "output_type": "execute_result"
    }
   ]
  },
  {
   "cell_type": "code",
   "source": [
    "# d)\n",
    "pagamentos_10_25 = pagamentos.query(\" salario > 10000 & salario < 25000 \")\n",
    "pagamentos_10_25.head(5)"
   ],
   "metadata": {
    "id": "qKtOkIzsqDaz",
    "ExecuteTime": {
     "end_time": "2023-07-17T18:49:50.207046800Z",
     "start_time": "2023-07-17T18:49:50.184047Z"
    }
   },
   "execution_count": 10,
   "outputs": [
    {
     "data": {
      "text/plain": "         nome           cpf       salario  encargos  custo_mensal  \\\n0       AÉLIO  908777362057  22771.880859     634.0  23405.880859   \n1        ALDA  324268288911  20637.560547     538.0  21175.560547   \n8        ARLY  314817767354  22063.419922     755.0  22818.419922   \n11  CRISTIANE  827111721032  16530.740234     453.0  16983.740234   \n19     FILIPE  111114603517  17293.740234     641.0  17934.740234   \n\n    salario_anual   custo_anual  \n0    273262.56250  280870.56250  \n1    247650.71875  254106.71875  \n8    264761.03125  273821.03125  \n11   198368.87500  203804.87500  \n19   207524.87500  215216.87500  ",
      "text/html": "<div>\n<style scoped>\n    .dataframe tbody tr th:only-of-type {\n        vertical-align: middle;\n    }\n\n    .dataframe tbody tr th {\n        vertical-align: top;\n    }\n\n    .dataframe thead th {\n        text-align: right;\n    }\n</style>\n<table border=\"1\" class=\"dataframe\">\n  <thead>\n    <tr style=\"text-align: right;\">\n      <th></th>\n      <th>nome</th>\n      <th>cpf</th>\n      <th>salario</th>\n      <th>encargos</th>\n      <th>custo_mensal</th>\n      <th>salario_anual</th>\n      <th>custo_anual</th>\n    </tr>\n  </thead>\n  <tbody>\n    <tr>\n      <th>0</th>\n      <td>AÉLIO</td>\n      <td>908777362057</td>\n      <td>22771.880859</td>\n      <td>634.0</td>\n      <td>23405.880859</td>\n      <td>273262.56250</td>\n      <td>280870.56250</td>\n    </tr>\n    <tr>\n      <th>1</th>\n      <td>ALDA</td>\n      <td>324268288911</td>\n      <td>20637.560547</td>\n      <td>538.0</td>\n      <td>21175.560547</td>\n      <td>247650.71875</td>\n      <td>254106.71875</td>\n    </tr>\n    <tr>\n      <th>8</th>\n      <td>ARLY</td>\n      <td>314817767354</td>\n      <td>22063.419922</td>\n      <td>755.0</td>\n      <td>22818.419922</td>\n      <td>264761.03125</td>\n      <td>273821.03125</td>\n    </tr>\n    <tr>\n      <th>11</th>\n      <td>CRISTIANE</td>\n      <td>827111721032</td>\n      <td>16530.740234</td>\n      <td>453.0</td>\n      <td>16983.740234</td>\n      <td>198368.87500</td>\n      <td>203804.87500</td>\n    </tr>\n    <tr>\n      <th>19</th>\n      <td>FILIPE</td>\n      <td>111114603517</td>\n      <td>17293.740234</td>\n      <td>641.0</td>\n      <td>17934.740234</td>\n      <td>207524.87500</td>\n      <td>215216.87500</td>\n    </tr>\n  </tbody>\n</table>\n</div>"
     },
     "execution_count": 10,
     "metadata": {},
     "output_type": "execute_result"
    }
   ]
  },
  {
   "cell_type": "code",
   "source": [
    "# e)\n",
    "pagamentos = pagamentos.drop(['encargos'], axis = 1)\n",
    "pagamentos.head(5)"
   ],
   "metadata": {
    "id": "Fr4zolOfqfaP",
    "ExecuteTime": {
     "end_time": "2023-07-17T18:49:50.953766800Z",
     "start_time": "2023-07-17T18:49:50.922980900Z"
    }
   },
   "execution_count": 11,
   "outputs": [
    {
     "data": {
      "text/plain": "        nome           cpf       salario  custo_mensal  salario_anual  \\\n0      AÉLIO  908777362057  22771.880859  23405.880859   273262.56250   \n1       ALDA  324268288911  20637.560547  21175.560547   247650.71875   \n2  ALEXANDRE  766148980149  27527.339844  27857.339844   330328.06250   \n3      ALINE  575223597306  29147.300781  29788.300781   349767.62500   \n4        ANA  900619489281  37617.300781  38406.300781   451407.62500   \n\n    custo_anual  \n0  280870.56250  \n1  254106.71875  \n2  334288.06250  \n3  357459.62500  \n4  460875.62500  ",
      "text/html": "<div>\n<style scoped>\n    .dataframe tbody tr th:only-of-type {\n        vertical-align: middle;\n    }\n\n    .dataframe tbody tr th {\n        vertical-align: top;\n    }\n\n    .dataframe thead th {\n        text-align: right;\n    }\n</style>\n<table border=\"1\" class=\"dataframe\">\n  <thead>\n    <tr style=\"text-align: right;\">\n      <th></th>\n      <th>nome</th>\n      <th>cpf</th>\n      <th>salario</th>\n      <th>custo_mensal</th>\n      <th>salario_anual</th>\n      <th>custo_anual</th>\n    </tr>\n  </thead>\n  <tbody>\n    <tr>\n      <th>0</th>\n      <td>AÉLIO</td>\n      <td>908777362057</td>\n      <td>22771.880859</td>\n      <td>23405.880859</td>\n      <td>273262.56250</td>\n      <td>280870.56250</td>\n    </tr>\n    <tr>\n      <th>1</th>\n      <td>ALDA</td>\n      <td>324268288911</td>\n      <td>20637.560547</td>\n      <td>21175.560547</td>\n      <td>247650.71875</td>\n      <td>254106.71875</td>\n    </tr>\n    <tr>\n      <th>2</th>\n      <td>ALEXANDRE</td>\n      <td>766148980149</td>\n      <td>27527.339844</td>\n      <td>27857.339844</td>\n      <td>330328.06250</td>\n      <td>334288.06250</td>\n    </tr>\n    <tr>\n      <th>3</th>\n      <td>ALINE</td>\n      <td>575223597306</td>\n      <td>29147.300781</td>\n      <td>29788.300781</td>\n      <td>349767.62500</td>\n      <td>357459.62500</td>\n    </tr>\n    <tr>\n      <th>4</th>\n      <td>ANA</td>\n      <td>900619489281</td>\n      <td>37617.300781</td>\n      <td>38406.300781</td>\n      <td>451407.62500</td>\n      <td>460875.62500</td>\n    </tr>\n  </tbody>\n</table>\n</div>"
     },
     "execution_count": 11,
     "metadata": {},
     "output_type": "execute_result"
    }
   ]
  },
  {
   "cell_type": "code",
   "source": [
    "# f)\n",
    "pagamentos = (pd.read_table(Path(input_dir, \"Folha_pagamento_comma.txt\"), sep = \",\",\n",
    "                           index_col = False, dtype = types)\n",
    "              .rename(columns = {\"Nome\": \"nome\",\n",
    "                                 \"CPF_fake\": \"cpf\",\n",
    "                                 \"Salário\": \"salario\",\n",
    "                                 \"Encargos\": \"encargos\"})\n",
    "              .astype({\"encargos\": \"float32\"})\n",
    "              .assign(custo_mensal  = lambda x: x[\"salario\"] +  x[\"encargos\"],\n",
    "                      salario_anual = lambda x: x[\"salario\"] * 12,\n",
    "                      custo_anual   = lambda x: x[\"custo_mensal\"] *12\n",
    "                      )\n",
    "              .drop(['encargos'], axis = 1)\n",
    "             )\n",
    "pagamentos.head(5)"
   ],
   "metadata": {
    "id": "7Ah-jNoyrdtc",
    "ExecuteTime": {
     "end_time": "2023-07-17T18:49:51.356098400Z",
     "start_time": "2023-07-17T18:49:51.317762Z"
    }
   },
   "execution_count": 12,
   "outputs": [
    {
     "data": {
      "text/plain": "        nome           cpf       salario  custo_mensal  salario_anual  \\\n0      AÉLIO  908777362057  22771.880859  23405.880859   273262.56250   \n1       ALDA  324268288911  20637.560547  21175.560547   247650.71875   \n2  ALEXANDRE  766148980149  27527.339844  27857.339844   330328.06250   \n3      ALINE  575223597306  29147.300781  29788.300781   349767.62500   \n4        ANA  900619489281  37617.300781  38406.300781   451407.62500   \n\n    custo_anual  \n0  280870.56250  \n1  254106.71875  \n2  334288.06250  \n3  357459.62500  \n4  460875.62500  ",
      "text/html": "<div>\n<style scoped>\n    .dataframe tbody tr th:only-of-type {\n        vertical-align: middle;\n    }\n\n    .dataframe tbody tr th {\n        vertical-align: top;\n    }\n\n    .dataframe thead th {\n        text-align: right;\n    }\n</style>\n<table border=\"1\" class=\"dataframe\">\n  <thead>\n    <tr style=\"text-align: right;\">\n      <th></th>\n      <th>nome</th>\n      <th>cpf</th>\n      <th>salario</th>\n      <th>custo_mensal</th>\n      <th>salario_anual</th>\n      <th>custo_anual</th>\n    </tr>\n  </thead>\n  <tbody>\n    <tr>\n      <th>0</th>\n      <td>AÉLIO</td>\n      <td>908777362057</td>\n      <td>22771.880859</td>\n      <td>23405.880859</td>\n      <td>273262.56250</td>\n      <td>280870.56250</td>\n    </tr>\n    <tr>\n      <th>1</th>\n      <td>ALDA</td>\n      <td>324268288911</td>\n      <td>20637.560547</td>\n      <td>21175.560547</td>\n      <td>247650.71875</td>\n      <td>254106.71875</td>\n    </tr>\n    <tr>\n      <th>2</th>\n      <td>ALEXANDRE</td>\n      <td>766148980149</td>\n      <td>27527.339844</td>\n      <td>27857.339844</td>\n      <td>330328.06250</td>\n      <td>334288.06250</td>\n    </tr>\n    <tr>\n      <th>3</th>\n      <td>ALINE</td>\n      <td>575223597306</td>\n      <td>29147.300781</td>\n      <td>29788.300781</td>\n      <td>349767.62500</td>\n      <td>357459.62500</td>\n    </tr>\n    <tr>\n      <th>4</th>\n      <td>ANA</td>\n      <td>900619489281</td>\n      <td>37617.300781</td>\n      <td>38406.300781</td>\n      <td>451407.62500</td>\n      <td>460875.62500</td>\n    </tr>\n  </tbody>\n</table>\n</div>"
     },
     "execution_count": 12,
     "metadata": {},
     "output_type": "execute_result"
    }
   ]
  },
  {
   "cell_type": "markdown",
   "source": [
    "# Exercício 2: Lidando com Misings"
   ],
   "metadata": {
    "collapsed": false
   }
  },
  {
   "cell_type": "code",
   "execution_count": 33,
   "outputs": [
    {
     "name": "stdout",
     "output_type": "stream",
     "text": [
      "<class 'pandas.core.frame.DataFrame'>\n",
      "Int64Index: 7964 entries, 0 to 0\n",
      "Data columns (total 8 columns):\n",
      " #   Column         Non-Null Count  Dtype  \n",
      "---  ------         --------------  -----  \n",
      " 0   cpf            7963 non-null   object \n",
      " 1   salario        7963 non-null   float32\n",
      " 2   encargos       7961 non-null   float32\n",
      " 3   custo_mensal   7963 non-null   float32\n",
      " 4   salario_anual  7963 non-null   float32\n",
      " 5   custo_anual    7963 non-null   float32\n",
      " 6   funcao         0 non-null      float64\n",
      " 7   pagamento      7963 non-null   float32\n",
      "dtypes: float32(6), float64(1), object(1)\n",
      "memory usage: 373.3+ KB\n"
     ]
    }
   ],
   "source": [
    "pagamentos_missings = pd.read_pickle(Path(input_dir, \"pagamentos_missings.pickle\") )\n",
    "\n",
    "pagamentos_missings.info()\n",
    "# pagamentos_missings.head()\n",
    "# pagamentos_missings.tail()"
   ],
   "metadata": {
    "collapsed": false,
    "ExecuteTime": {
     "end_time": "2023-07-17T19:06:04.096523100Z",
     "start_time": "2023-07-17T19:06:04.045548Z"
    }
   }
  },
  {
   "cell_type": "code",
   "execution_count": 39,
   "outputs": [
    {
     "data": {
      "text/plain": "            cpf       salario encargos  custo_mensal salario_anual  \\\n0  908777362057  22771.880859    634.0  23405.880859   273262.5625   \n1  324268288911  20637.560547      NaN  21175.560547  247650.71875   \n2  766148980149  27527.339844      NaN  27857.339844   330328.0625   \n3  575223597306  29147.300781    641.0  29788.300781    349767.625   \n4  900619489281  37617.300781    789.0  38406.300781    451407.625   \n\n    custo_anual  \n0   280870.5625  \n1  254106.71875  \n2   334288.0625  \n3    357459.625  \n4    460875.625  ",
      "text/html": "<div>\n<style scoped>\n    .dataframe tbody tr th:only-of-type {\n        vertical-align: middle;\n    }\n\n    .dataframe tbody tr th {\n        vertical-align: top;\n    }\n\n    .dataframe thead th {\n        text-align: right;\n    }\n</style>\n<table border=\"1\" class=\"dataframe\">\n  <thead>\n    <tr style=\"text-align: right;\">\n      <th></th>\n      <th>cpf</th>\n      <th>salario</th>\n      <th>encargos</th>\n      <th>custo_mensal</th>\n      <th>salario_anual</th>\n      <th>custo_anual</th>\n    </tr>\n  </thead>\n  <tbody>\n    <tr>\n      <th>0</th>\n      <td>908777362057</td>\n      <td>22771.880859</td>\n      <td>634.0</td>\n      <td>23405.880859</td>\n      <td>273262.5625</td>\n      <td>280870.5625</td>\n    </tr>\n    <tr>\n      <th>1</th>\n      <td>324268288911</td>\n      <td>20637.560547</td>\n      <td>NaN</td>\n      <td>21175.560547</td>\n      <td>247650.71875</td>\n      <td>254106.71875</td>\n    </tr>\n    <tr>\n      <th>2</th>\n      <td>766148980149</td>\n      <td>27527.339844</td>\n      <td>NaN</td>\n      <td>27857.339844</td>\n      <td>330328.0625</td>\n      <td>334288.0625</td>\n    </tr>\n    <tr>\n      <th>3</th>\n      <td>575223597306</td>\n      <td>29147.300781</td>\n      <td>641.0</td>\n      <td>29788.300781</td>\n      <td>349767.625</td>\n      <td>357459.625</td>\n    </tr>\n    <tr>\n      <th>4</th>\n      <td>900619489281</td>\n      <td>37617.300781</td>\n      <td>789.0</td>\n      <td>38406.300781</td>\n      <td>451407.625</td>\n      <td>460875.625</td>\n    </tr>\n  </tbody>\n</table>\n</div>"
     },
     "execution_count": 39,
     "metadata": {},
     "output_type": "execute_result"
    }
   ],
   "source": [
    "pagamentos_corrected = (pagamentos_missings\n",
    "                        .T.drop_duplicates().T\n",
    "                        .dropna(how = 'all', axis = 1)\n",
    "                        .dropna(how = 'all', axis = 0)\n",
    "                        .assign(encargos = lambda df: df[\"encargos\"].fillna(0))\n",
    "                        )\n",
    "pagamentos_corrected.head()"
   ],
   "metadata": {
    "collapsed": false,
    "ExecuteTime": {
     "end_time": "2023-07-17T19:08:12.857593500Z",
     "start_time": "2023-07-17T19:08:12.261833700Z"
    }
   }
  },
  {
   "cell_type": "markdown",
   "source": [
    "# Exercício 3: Mascarando Identificação"
   ],
   "metadata": {
    "id": "2XCjszLfKCb5"
   }
  },
  {
   "cell_type": "code",
   "source": [
    "# a)\n",
    "pagamentos_id = (pagamentos\n",
    "                 .assign(nome = lambda df:\n",
    "                                 df[\"nome\"].apply(lambda x:\n",
    "                                                   hashlib.md5(x.encode('UTF-8'))\n",
    "                                                   .hexdigest()\n",
    "                                                   )\n",
    "                         )\n",
    "                 )\n",
    "pagamentos_id.head(5)"
   ],
   "metadata": {
    "id": "VMDEYYnuKJKM",
    "ExecuteTime": {
     "end_time": "2023-07-17T18:34:50.349591700Z",
     "start_time": "2023-07-17T18:34:50.320516Z"
    }
   },
   "execution_count": 10,
   "outputs": [
    {
     "data": {
      "text/plain": "                               nome           cpf       salario  custo_mensal  \\\n0  e0dc2e2131e8b6f8e3193bdc704b8661  908777362057  22771.880859  23405.880859   \n1  1c754ccf13395ca21df421403f401d7b  324268288911  20637.560547  21175.560547   \n2  7490ab41686a928652d05b5a55777d44  766148980149  27527.339844  27857.339844   \n3  7e9532b1ccde404a8ac93a7d85fa2a8f  575223597306  29147.300781  29788.300781   \n4  cf886fb16b28eed1395218ce62b8509f  900619489281  37617.300781  38406.300781   \n\n   salario_anual   custo_anual  \n0   273262.56250  280870.56250  \n1   247650.71875  254106.71875  \n2   330328.06250  334288.06250  \n3   349767.62500  357459.62500  \n4   451407.62500  460875.62500  ",
      "text/html": "<div>\n<style scoped>\n    .dataframe tbody tr th:only-of-type {\n        vertical-align: middle;\n    }\n\n    .dataframe tbody tr th {\n        vertical-align: top;\n    }\n\n    .dataframe thead th {\n        text-align: right;\n    }\n</style>\n<table border=\"1\" class=\"dataframe\">\n  <thead>\n    <tr style=\"text-align: right;\">\n      <th></th>\n      <th>nome</th>\n      <th>cpf</th>\n      <th>salario</th>\n      <th>custo_mensal</th>\n      <th>salario_anual</th>\n      <th>custo_anual</th>\n    </tr>\n  </thead>\n  <tbody>\n    <tr>\n      <th>0</th>\n      <td>e0dc2e2131e8b6f8e3193bdc704b8661</td>\n      <td>908777362057</td>\n      <td>22771.880859</td>\n      <td>23405.880859</td>\n      <td>273262.56250</td>\n      <td>280870.56250</td>\n    </tr>\n    <tr>\n      <th>1</th>\n      <td>1c754ccf13395ca21df421403f401d7b</td>\n      <td>324268288911</td>\n      <td>20637.560547</td>\n      <td>21175.560547</td>\n      <td>247650.71875</td>\n      <td>254106.71875</td>\n    </tr>\n    <tr>\n      <th>2</th>\n      <td>7490ab41686a928652d05b5a55777d44</td>\n      <td>766148980149</td>\n      <td>27527.339844</td>\n      <td>27857.339844</td>\n      <td>330328.06250</td>\n      <td>334288.06250</td>\n    </tr>\n    <tr>\n      <th>3</th>\n      <td>7e9532b1ccde404a8ac93a7d85fa2a8f</td>\n      <td>575223597306</td>\n      <td>29147.300781</td>\n      <td>29788.300781</td>\n      <td>349767.62500</td>\n      <td>357459.62500</td>\n    </tr>\n    <tr>\n      <th>4</th>\n      <td>cf886fb16b28eed1395218ce62b8509f</td>\n      <td>900619489281</td>\n      <td>37617.300781</td>\n      <td>38406.300781</td>\n      <td>451407.62500</td>\n      <td>460875.62500</td>\n    </tr>\n  </tbody>\n</table>\n</div>"
     },
     "execution_count": 10,
     "metadata": {},
     "output_type": "execute_result"
    }
   ]
  },
  {
   "cell_type": "code",
   "source": [
    "# b)\n",
    "pagamentos_masked = (pagamentos_id\n",
    "                     .assign(cpf_s = lambda df: df['cpf'] + \"-stark-lannister-targaryen\",\n",
    "                             cpf   = lambda df:\n",
    "                                     df[\"cpf_s\"].apply(lambda x:\n",
    "                                                       hashlib.sha256(x.encode('UTF-8'))\n",
    "                                                       .hexdigest()\n",
    "                                                       )\n",
    "                              )\n",
    "                      .drop([\"cpf_s\"], axis = 1)\n",
    "                      )\n",
    "pagamentos_masked.head(5)"
   ],
   "metadata": {
    "id": "t-_rciiUGSbe",
    "ExecuteTime": {
     "end_time": "2023-07-17T18:34:51.414839700Z",
     "start_time": "2023-07-17T18:34:51.377220900Z"
    }
   },
   "execution_count": 11,
   "outputs": [
    {
     "data": {
      "text/plain": "                               nome  \\\n0  e0dc2e2131e8b6f8e3193bdc704b8661   \n1  1c754ccf13395ca21df421403f401d7b   \n2  7490ab41686a928652d05b5a55777d44   \n3  7e9532b1ccde404a8ac93a7d85fa2a8f   \n4  cf886fb16b28eed1395218ce62b8509f   \n\n                                                 cpf       salario  \\\n0  967db7ec12a9c5c6452c83cf2d9313eb0ff751ed19cf0f...  22771.880859   \n1  a779ca71c307d8936c150330e15942cbe6c91f520069f6...  20637.560547   \n2  023ae968bb3edf8b5bc79e4998e51bfd2a8a9ccd787318...  27527.339844   \n3  87bc9f9bb3d9d9da3ea020b8a9d8ee4fa2f383a1b537b5...  29147.300781   \n4  cffabb8fd509f824032c2651720295d555ec52ecdb4699...  37617.300781   \n\n   custo_mensal  salario_anual   custo_anual  \n0  23405.880859   273262.56250  280870.56250  \n1  21175.560547   247650.71875  254106.71875  \n2  27857.339844   330328.06250  334288.06250  \n3  29788.300781   349767.62500  357459.62500  \n4  38406.300781   451407.62500  460875.62500  ",
      "text/html": "<div>\n<style scoped>\n    .dataframe tbody tr th:only-of-type {\n        vertical-align: middle;\n    }\n\n    .dataframe tbody tr th {\n        vertical-align: top;\n    }\n\n    .dataframe thead th {\n        text-align: right;\n    }\n</style>\n<table border=\"1\" class=\"dataframe\">\n  <thead>\n    <tr style=\"text-align: right;\">\n      <th></th>\n      <th>nome</th>\n      <th>cpf</th>\n      <th>salario</th>\n      <th>custo_mensal</th>\n      <th>salario_anual</th>\n      <th>custo_anual</th>\n    </tr>\n  </thead>\n  <tbody>\n    <tr>\n      <th>0</th>\n      <td>e0dc2e2131e8b6f8e3193bdc704b8661</td>\n      <td>967db7ec12a9c5c6452c83cf2d9313eb0ff751ed19cf0f...</td>\n      <td>22771.880859</td>\n      <td>23405.880859</td>\n      <td>273262.56250</td>\n      <td>280870.56250</td>\n    </tr>\n    <tr>\n      <th>1</th>\n      <td>1c754ccf13395ca21df421403f401d7b</td>\n      <td>a779ca71c307d8936c150330e15942cbe6c91f520069f6...</td>\n      <td>20637.560547</td>\n      <td>21175.560547</td>\n      <td>247650.71875</td>\n      <td>254106.71875</td>\n    </tr>\n    <tr>\n      <th>2</th>\n      <td>7490ab41686a928652d05b5a55777d44</td>\n      <td>023ae968bb3edf8b5bc79e4998e51bfd2a8a9ccd787318...</td>\n      <td>27527.339844</td>\n      <td>27857.339844</td>\n      <td>330328.06250</td>\n      <td>334288.06250</td>\n    </tr>\n    <tr>\n      <th>3</th>\n      <td>7e9532b1ccde404a8ac93a7d85fa2a8f</td>\n      <td>87bc9f9bb3d9d9da3ea020b8a9d8ee4fa2f383a1b537b5...</td>\n      <td>29147.300781</td>\n      <td>29788.300781</td>\n      <td>349767.62500</td>\n      <td>357459.62500</td>\n    </tr>\n    <tr>\n      <th>4</th>\n      <td>cf886fb16b28eed1395218ce62b8509f</td>\n      <td>cffabb8fd509f824032c2651720295d555ec52ecdb4699...</td>\n      <td>37617.300781</td>\n      <td>38406.300781</td>\n      <td>451407.62500</td>\n      <td>460875.62500</td>\n    </tr>\n  </tbody>\n</table>\n</div>"
     },
     "execution_count": 11,
     "metadata": {},
     "output_type": "execute_result"
    }
   ]
  },
  {
   "cell_type": "code",
   "source": [
    "pagamentos_masked.to_pickle(Path(output_dir, \"pagamentos_masked.pickle.xz\"),\n",
    "                            protocol = 5)\n",
    "pagamentos_masked.to_csv(Path(output_dir, \"pagamentos_masked.csv.xz\"))"
   ],
   "metadata": {
    "id": "dOvPa7i0_15q",
    "ExecuteTime": {
     "end_time": "2023-07-17T18:34:52.888520900Z",
     "start_time": "2023-07-17T18:34:52.254113800Z"
    }
   },
   "execution_count": 12,
   "outputs": []
  },
  {
   "cell_type": "code",
   "source": [],
   "metadata": {
    "id": "Vlt_8MtY8TUF"
   },
   "execution_count": null,
   "outputs": []
  }
 ]
}
