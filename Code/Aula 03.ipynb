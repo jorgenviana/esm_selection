{
 "nbformat": 4,
 "nbformat_minor": 0,
 "metadata": {
  "colab": {
   "provenance": [],
   "toc_visible": true,
   "mount_file_id": "1k33CQQFPUJr35RpAmChSSJxjLB0yxR1U",
   "authorship_tag": "ABX9TyMtxl385vUoRN7zKUPBaO62"
  },
  "kernelspec": {
   "name": "python3",
   "language": "python",
   "display_name": "Python 3 (ipykernel)"
  },
  "language_info": {
   "name": "python"
  }
 },
 "cells": [
  {
   "cell_type": "markdown",
   "source": [
    "# Aula 03 - Leitura de Dados Estruturados e Semiestruturados\n",
    "\n",
    "## **Resumo**: Exerícios de leituras de dados estruturados (tabelas) e semiestruturados (JSON), a partir de dados fictícios de uma folha de pagamentos com mais de cinco mil indivíduos."
   ],
   "metadata": {
    "id": "ExStrAsvIC9S"
   }
  },
  {
   "cell_type": "markdown",
   "source": [
    "# I CARREGAMENTO DOS PACOTES NECESSÁRIOS"
   ],
   "metadata": {
    "id": "h_HwK7HWJsgK"
   }
  },
  {
   "cell_type": "code",
   "execution_count": 1,
   "metadata": {
    "id": "gNOd1UIjHx_w",
    "ExecuteTime": {
     "end_time": "2023-07-17T18:27:16.410628200Z",
     "start_time": "2023-07-17T18:27:16.073058900Z"
    }
   },
   "outputs": [],
   "source": [
    "import os\n",
    "import pandas as pd\n",
    "import numpy as np\n",
    "\n",
    "from pathlib import Path"
   ]
  },
  {
   "cell_type": "markdown",
   "source": [
    "# 1 DIRETÓRIOS"
   ],
   "metadata": {
    "id": "ni8HvroNJ2sk"
   }
  },
  {
   "cell_type": "code",
   "source": [
    "# Use seu diretório de escolha\n",
    "os.chdir(\"G:\\\\Meu Drive\\\\Selection\\\\esm_selection\")\n",
    "os.getcwd()"
   ],
   "metadata": {
    "id": "ld-aCoigIXMJ",
    "ExecuteTime": {
     "end_time": "2023-07-17T18:29:32.963410600Z",
     "start_time": "2023-07-17T18:29:32.942808800Z"
    }
   },
   "execution_count": 5,
   "outputs": [
    {
     "data": {
      "text/plain": "'G:\\\\Meu Drive\\\\Selection\\\\esm_selection'"
     },
     "execution_count": 5,
     "metadata": {},
     "output_type": "execute_result"
    }
   ]
  },
  {
   "cell_type": "code",
   "source": [
    "root_dir   = Path(os.getcwd())\n",
    "input_dir  = Path(root_dir, \"Data/Input\")\n",
    "output_dir = Path(root_dir, \"Data/Output\")\n",
    "output_dir"
   ],
   "metadata": {
    "id": "dtuPFlueI2Q0",
    "ExecuteTime": {
     "end_time": "2023-07-17T18:29:34.743203200Z",
     "start_time": "2023-07-17T18:29:34.714190Z"
    }
   },
   "execution_count": 6,
   "outputs": [
    {
     "data": {
      "text/plain": "WindowsPath('G:/Meu Drive/Selection/esm_selection/Data/Output')"
     },
     "execution_count": 6,
     "metadata": {},
     "output_type": "execute_result"
    }
   ]
  },
  {
   "cell_type": "markdown",
   "source": [
    "# Exercício 1: Leitura de Dados Estruturados"
   ],
   "metadata": {
    "id": "vmaKpyZ-I5wc"
   }
  },
  {
   "cell_type": "code",
   "source": [
    "# a)\n",
    "pagamentos_comma  = pd.read_table(Path(input_dir, \"Folha_pagamento_comma.txt\"),\n",
    "                                  sep = \",\",\n",
    "                                  index_col = False)\n",
    "pagamentos_pipe   = pd.read_table(Path(input_dir, \"Folha_pagamento_pipe.txt\"), \n",
    "                                  sep = \"|\",\n",
    "                                  index_col = False, decimal = \",\")\n",
    "pagamentos_scolon = pd.read_table(Path(input_dir, \"Folha_pagamento_scolon.zip\"),\n",
    "                                  sep = \";\",\n",
    "                                  index_col = False, decimal = \",\")\n",
    "\n",
    "pagamentos_pipe"
   ],
   "metadata": {
    "id": "jQP9NF5WI9pb",
    "ExecuteTime": {
     "end_time": "2023-07-17T18:31:10.330859200Z",
     "start_time": "2023-07-17T18:31:10.252556800Z"
    }
   },
   "execution_count": 8,
   "outputs": [
    {
     "data": {
      "text/plain": "           Nome      CPF_fake   Salário  Encargos\n0         AÉLIO  908777362057  22771.88       634\n1          ALDA  324268288911  20637.56       538\n2     ALEXANDRE  766148980149  27527.34       330\n3         ALINE  575223597306  29147.30       641\n4           ANA  900619489281  37617.30       789\n...         ...           ...       ...       ...\n7958      LÍVIA  987599552888   9450.06       341\n7959      MAÍNE  577833528199  25498.86       797\n7960   MANUELLA  920324446993  14134.42       808\n7961   MARCELLA  631234133516  27519.14       818\n7962    MARCELO  177894774588  20402.04       583\n\n[7963 rows x 4 columns]",
      "text/html": "<div>\n<style scoped>\n    .dataframe tbody tr th:only-of-type {\n        vertical-align: middle;\n    }\n\n    .dataframe tbody tr th {\n        vertical-align: top;\n    }\n\n    .dataframe thead th {\n        text-align: right;\n    }\n</style>\n<table border=\"1\" class=\"dataframe\">\n  <thead>\n    <tr style=\"text-align: right;\">\n      <th></th>\n      <th>Nome</th>\n      <th>CPF_fake</th>\n      <th>Salário</th>\n      <th>Encargos</th>\n    </tr>\n  </thead>\n  <tbody>\n    <tr>\n      <th>0</th>\n      <td>AÉLIO</td>\n      <td>908777362057</td>\n      <td>22771.88</td>\n      <td>634</td>\n    </tr>\n    <tr>\n      <th>1</th>\n      <td>ALDA</td>\n      <td>324268288911</td>\n      <td>20637.56</td>\n      <td>538</td>\n    </tr>\n    <tr>\n      <th>2</th>\n      <td>ALEXANDRE</td>\n      <td>766148980149</td>\n      <td>27527.34</td>\n      <td>330</td>\n    </tr>\n    <tr>\n      <th>3</th>\n      <td>ALINE</td>\n      <td>575223597306</td>\n      <td>29147.30</td>\n      <td>641</td>\n    </tr>\n    <tr>\n      <th>4</th>\n      <td>ANA</td>\n      <td>900619489281</td>\n      <td>37617.30</td>\n      <td>789</td>\n    </tr>\n    <tr>\n      <th>...</th>\n      <td>...</td>\n      <td>...</td>\n      <td>...</td>\n      <td>...</td>\n    </tr>\n    <tr>\n      <th>7958</th>\n      <td>LÍVIA</td>\n      <td>987599552888</td>\n      <td>9450.06</td>\n      <td>341</td>\n    </tr>\n    <tr>\n      <th>7959</th>\n      <td>MAÍNE</td>\n      <td>577833528199</td>\n      <td>25498.86</td>\n      <td>797</td>\n    </tr>\n    <tr>\n      <th>7960</th>\n      <td>MANUELLA</td>\n      <td>920324446993</td>\n      <td>14134.42</td>\n      <td>808</td>\n    </tr>\n    <tr>\n      <th>7961</th>\n      <td>MARCELLA</td>\n      <td>631234133516</td>\n      <td>27519.14</td>\n      <td>818</td>\n    </tr>\n    <tr>\n      <th>7962</th>\n      <td>MARCELO</td>\n      <td>177894774588</td>\n      <td>20402.04</td>\n      <td>583</td>\n    </tr>\n  </tbody>\n</table>\n<p>7963 rows × 4 columns</p>\n</div>"
     },
     "execution_count": 8,
     "metadata": {},
     "output_type": "execute_result"
    }
   ]
  },
  {
   "cell_type": "code",
   "source": [
    "# b)\n",
    "# pagamentos_comma.info()\n",
    "# pagamentos_pipe.info()\n",
    "pagamentos_scolon.info()"
   ],
   "metadata": {
    "id": "6ubOc7_WO4AH",
    "ExecuteTime": {
     "end_time": "2023-07-17T18:31:13.968069300Z",
     "start_time": "2023-07-17T18:31:13.946954700Z"
    }
   },
   "execution_count": 9,
   "outputs": [
    {
     "name": "stdout",
     "output_type": "stream",
     "text": [
      "<class 'pandas.core.frame.DataFrame'>\n",
      "RangeIndex: 7963 entries, 0 to 7962\n",
      "Data columns (total 4 columns):\n",
      " #   Column    Non-Null Count  Dtype  \n",
      "---  ------    --------------  -----  \n",
      " 0   Nome      7963 non-null   object \n",
      " 1   CPF_fake  7963 non-null   int64  \n",
      " 2   Salário   7963 non-null   float64\n",
      " 3   Encargos  7963 non-null   int64  \n",
      "dtypes: float64(1), int64(2), object(1)\n",
      "memory usage: 249.0+ KB\n"
     ]
    }
   ]
  },
  {
   "cell_type": "code",
   "source": [
    "# c)\n",
    "\n",
    "# Tipos\n",
    "types = {\"CPF_fake\": \"str\",\n",
    "         \"Salário\": \"float32\",\n",
    "         \"Encargos\": \"int16\"}\n",
    "\n",
    "# Leitura\n",
    "pagamentos_comma  = pd.read_table(Path(input_dir, \"Folha_pagamento_comma.txt\"), sep = \",\",\n",
    "                                  index_col = False, dtype = types)\n",
    "pagamentos_pipe   = pd.read_table(Path(input_dir, \"Folha_pagamento_pipe.txt\"), sep = \"|\",\n",
    "                                  index_col = False, decimal = \",\", dtype = types)\n",
    "pagamentos_scolon = pd.read_table(Path(input_dir, \"Folha_pagamento_scolon.zip\"), sep = \";\",\n",
    "                                  index_col = False, decimal = \",\", dtype = types)\n",
    "\n",
    "# Verificação\n",
    "pagamentos_comma.info()\n",
    "# pagamentos_pipe.info()\n",
    "# pagamentos_scolon.info()"
   ],
   "metadata": {
    "id": "4jzkDq0JPplQ",
    "ExecuteTime": {
     "end_time": "2023-07-17T18:31:16.328917Z",
     "start_time": "2023-07-17T18:31:16.208816500Z"
    }
   },
   "execution_count": 10,
   "outputs": [
    {
     "name": "stdout",
     "output_type": "stream",
     "text": [
      "<class 'pandas.core.frame.DataFrame'>\n",
      "RangeIndex: 7963 entries, 0 to 7962\n",
      "Data columns (total 4 columns):\n",
      " #   Column    Non-Null Count  Dtype  \n",
      "---  ------    --------------  -----  \n",
      " 0   Nome      7963 non-null   object \n",
      " 1   CPF_fake  7963 non-null   object \n",
      " 2   Salário   7963 non-null   float32\n",
      " 3   Encargos  7963 non-null   int16  \n",
      "dtypes: float32(1), int16(1), object(2)\n",
      "memory usage: 171.2+ KB\n"
     ]
    }
   ]
  },
  {
   "cell_type": "code",
   "source": [
    "# d)\n",
    "pagamentos_excel  = pd.read_excel(Path(input_dir, \"Folha_pagamento_excel.xlsx\"), \n",
    "                                  sheet_name = \"Plan1\")\n",
    "pagamentos_excel.info()"
   ],
   "metadata": {
    "id": "LKyPvkU1QMxR",
    "ExecuteTime": {
     "end_time": "2023-07-17T18:31:20.506598200Z",
     "start_time": "2023-07-17T18:31:17.692517900Z"
    }
   },
   "execution_count": 11,
   "outputs": [
    {
     "name": "stdout",
     "output_type": "stream",
     "text": [
      "<class 'pandas.core.frame.DataFrame'>\n",
      "RangeIndex: 7963 entries, 0 to 7962\n",
      "Data columns (total 4 columns):\n",
      " #   Column    Non-Null Count  Dtype  \n",
      "---  ------    --------------  -----  \n",
      " 0   Nome      7963 non-null   object \n",
      " 1   CPF_fake  7963 non-null   int64  \n",
      " 2   Salário   7963 non-null   float64\n",
      " 3   Encargos  7963 non-null   int64  \n",
      "dtypes: float64(1), int64(2), object(1)\n",
      "memory usage: 249.0+ KB\n"
     ]
    }
   ]
  },
  {
   "cell_type": "markdown",
   "source": [
    "# Exercício 2: Leitura de Dados Semiestruturados"
   ],
   "metadata": {
    "id": "atOvILojctub"
   }
  },
  {
   "cell_type": "code",
   "source": [
    "# Tipos\n",
    "types = {\"CPF_fake\": \"str\",\n",
    "         \"Salário\": \"float32\",\n",
    "         \"Encargos\": \"int16\"}\n",
    "\n",
    "# Leitura\n",
    "pagamentos_records = pd.read_json(Path(input_dir, \"pagamentos_json_records.json\"), \n",
    "                                  orient = \"records\", dtype = types)\n",
    "\n",
    "pagamentos_split = pd.read_json(Path(input_dir, \"pagamentos_json_split.json.zip\"), \n",
    "                                orient = \"split\", dtype = types)\n",
    "\n",
    "pagamentos_columns = pd.read_json(Path(input_dir, \"pagamentos_json_columns.json.zip\"), \n",
    "                                  orient = \"columns\", dtype = types)\n",
    "\n",
    "pagamentos_index = pd.read_json(Path(input_dir, \"pagamentos_json_index.json.gz\"), \n",
    "                                orient = \"index\", dtype = types)\n",
    "# Verificação\n",
    "\n",
    "pagamentos_records\n",
    "# pagamentos_split\n",
    "# pagamentos_columns\n",
    "# pagamentos_index"
   ],
   "metadata": {
    "id": "y8pQLsuyeo3S",
    "ExecuteTime": {
     "end_time": "2023-07-17T18:33:08.401976400Z",
     "start_time": "2023-07-17T18:33:08.276982Z"
    }
   },
   "execution_count": 13,
   "outputs": [
    {
     "data": {
      "text/plain": "           Nome      CPF_fake       Salário  Encargos\n0         AÉLIO  908777362057  22771.880859       634\n1          ALDA  324268288911  20637.560547       538\n2     ALEXANDRE  766148980149  27527.339844       330\n3         ALINE  575223597306  29147.300781       641\n4           ANA  900619489281  37617.300781       789\n...         ...           ...           ...       ...\n7958      LÍVIA  987599552888   9450.059570       341\n7959      MAÍNE  577833528199  25498.859375       797\n7960   MANUELLA  920324446993  14134.419922       808\n7961   MARCELLA  631234133516  27519.140625       818\n7962    MARCELO  177894774588  20402.039062       583\n\n[7963 rows x 4 columns]",
      "text/html": "<div>\n<style scoped>\n    .dataframe tbody tr th:only-of-type {\n        vertical-align: middle;\n    }\n\n    .dataframe tbody tr th {\n        vertical-align: top;\n    }\n\n    .dataframe thead th {\n        text-align: right;\n    }\n</style>\n<table border=\"1\" class=\"dataframe\">\n  <thead>\n    <tr style=\"text-align: right;\">\n      <th></th>\n      <th>Nome</th>\n      <th>CPF_fake</th>\n      <th>Salário</th>\n      <th>Encargos</th>\n    </tr>\n  </thead>\n  <tbody>\n    <tr>\n      <th>0</th>\n      <td>AÉLIO</td>\n      <td>908777362057</td>\n      <td>22771.880859</td>\n      <td>634</td>\n    </tr>\n    <tr>\n      <th>1</th>\n      <td>ALDA</td>\n      <td>324268288911</td>\n      <td>20637.560547</td>\n      <td>538</td>\n    </tr>\n    <tr>\n      <th>2</th>\n      <td>ALEXANDRE</td>\n      <td>766148980149</td>\n      <td>27527.339844</td>\n      <td>330</td>\n    </tr>\n    <tr>\n      <th>3</th>\n      <td>ALINE</td>\n      <td>575223597306</td>\n      <td>29147.300781</td>\n      <td>641</td>\n    </tr>\n    <tr>\n      <th>4</th>\n      <td>ANA</td>\n      <td>900619489281</td>\n      <td>37617.300781</td>\n      <td>789</td>\n    </tr>\n    <tr>\n      <th>...</th>\n      <td>...</td>\n      <td>...</td>\n      <td>...</td>\n      <td>...</td>\n    </tr>\n    <tr>\n      <th>7958</th>\n      <td>LÍVIA</td>\n      <td>987599552888</td>\n      <td>9450.059570</td>\n      <td>341</td>\n    </tr>\n    <tr>\n      <th>7959</th>\n      <td>MAÍNE</td>\n      <td>577833528199</td>\n      <td>25498.859375</td>\n      <td>797</td>\n    </tr>\n    <tr>\n      <th>7960</th>\n      <td>MANUELLA</td>\n      <td>920324446993</td>\n      <td>14134.419922</td>\n      <td>808</td>\n    </tr>\n    <tr>\n      <th>7961</th>\n      <td>MARCELLA</td>\n      <td>631234133516</td>\n      <td>27519.140625</td>\n      <td>818</td>\n    </tr>\n    <tr>\n      <th>7962</th>\n      <td>MARCELO</td>\n      <td>177894774588</td>\n      <td>20402.039062</td>\n      <td>583</td>\n    </tr>\n  </tbody>\n</table>\n<p>7963 rows × 4 columns</p>\n</div>"
     },
     "execution_count": 13,
     "metadata": {},
     "output_type": "execute_result"
    }
   ]
  },
  {
   "cell_type": "markdown",
   "source": [
    "# Exercício 3: Exportação e Seriealização"
   ],
   "metadata": {
    "id": "pf5-VVUAk5IV"
   }
  },
  {
   "cell_type": "code",
   "source": [
    "pagamentos = pagamentos_excel\n",
    "\n",
    "# a)\n",
    "pagamentos.to_csv(Path(output_dir, \"pagamentos_comma.csv\"), sep = \",\", decimal = \".\")\n",
    "\n",
    "# b)\n",
    "pagamentos.to_csv(Path(output_dir, \"pagamentos_scolon.csv.gz\"), sep = \";\", decimal = \",\")\n",
    "\n",
    "# c)\n",
    "pagamentos.to_excel(Path(output_dir, \"pagamentos_excel.xlsx.zip\"))\n",
    "\n",
    "# d)\n",
    "pagamentos.to_json(Path(output_dir, \"pagamentos_json_records.json.xz\"), orient = \"records\",\n",
    "                   indent = 1)"
   ],
   "metadata": {
    "id": "MUw12jyweqai",
    "ExecuteTime": {
     "end_time": "2023-07-17T18:33:13.064948600Z",
     "start_time": "2023-07-17T18:33:11.856523700Z"
    }
   },
   "execution_count": 14,
   "outputs": []
  },
  {
   "cell_type": "code",
   "source": [],
   "metadata": {
    "id": "FcIbOq6UCxkw"
   },
   "execution_count": null,
   "outputs": []
  }
 ]
}
